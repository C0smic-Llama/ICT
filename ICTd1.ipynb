{
  "nbformat": 4,
  "nbformat_minor": 0,
  "metadata": {
    "colab": {
      "provenance": [],
      "authorship_tag": "ABX9TyMEMYtLszgGDB0d916joqqe",
      "include_colab_link": true
    },
    "kernelspec": {
      "name": "python3",
      "display_name": "Python 3"
    },
    "language_info": {
      "name": "python"
    }
  },
  "cells": [
    {
      "cell_type": "markdown",
      "metadata": {
        "id": "view-in-github",
        "colab_type": "text"
      },
      "source": [
        "<a href=\"https://colab.research.google.com/github/C0smic-Llama/ICT/blob/main/ICTd1.ipynb\" target=\"_parent\"><img src=\"https://colab.research.google.com/assets/colab-badge.svg\" alt=\"Open In Colab\"/></a>"
      ]
    },
    {
      "cell_type": "code",
      "source": [
        "# prompt: text summarizer using a package where the user inputs the text\n",
        "\n",
        "!pip install summa\n",
        "\n",
        "from summa import summarizer\n",
        "\n",
        "# Get the user input text\n",
        "text = input(\"Enter the text you want to summarize: \")\n",
        "\n",
        "# Summarize the text\n",
        "summary = summarizer.summarize(text)\n",
        "\n",
        "# Print the summary\n",
        "print(summary)\n"
      ],
      "metadata": {
        "id": "SqA0oIfKTWla",
        "colab": {
          "base_uri": "https://localhost:8080/"
        },
        "outputId": "0d826632-beda-422f-f827-dc5a625eb77d"
      },
      "execution_count": 9,
      "outputs": [
        {
          "output_type": "stream",
          "name": "stdout",
          "text": [
            "Requirement already satisfied: summa in /usr/local/lib/python3.10/dist-packages (1.2.0)\n",
            "Requirement already satisfied: scipy>=0.19 in /usr/local/lib/python3.10/dist-packages (from summa) (1.11.4)\n",
            "Requirement already satisfied: numpy<1.28.0,>=1.21.6 in /usr/local/lib/python3.10/dist-packages (from scipy>=0.19->summa) (1.25.2)\n",
            "Enter the text you want to summarize: Wind and hydropower often require users to live in specific locations, but solar offers more freedom; the sun rises and sets on a predictable schedule, and it’s not as variable as running water or wind. Residential solar power is expected to expand from 58 GW in 2018 to 142 GW by 2024, and annual capacity additions are expected to more than triple to over 20 GW by 2024. China is expected to register the largest installed residential solar capacity in the world by 2024, with the strongest per capita growth in Australia, Belgium, the Netherlands and Austria.  Solar facilities will continue reducing their variability rates by storing electricity during the day and running at night. However, advanced solar plants will operate on higher DC to AC ratios, meaning they’ll deliver more consistent service for longer durations.  Commercial and residential buildings will keep running at full capacity even in periods of low sunlight. Closing the gaps between sunlight collection and electricity generation will spur residents and corporations to join the solar movement. Therefore, it’s imperative for governments to implement incentive and remuneration schemes, as well as effective regulation policies. For example, California has mandated that after 2020, solar panels must be installed on new homes and buildings of up to three storeys.\n",
            "China is expected to register the largest installed residential solar capacity in the world by 2024, with the strongest per capita growth in Australia, Belgium, the Netherlands and Austria.\n"
          ]
        }
      ]
    }
  ]
}