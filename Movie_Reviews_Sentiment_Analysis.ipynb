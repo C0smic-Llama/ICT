{
  "cells": [
    {
      "cell_type": "markdown",
      "metadata": {
        "id": "view-in-github",
        "colab_type": "text"
      },
      "source": [
        "<a href=\"https://colab.research.google.com/github/C0smic-Llama/ICT/blob/main/Movie_Reviews_Sentiment_Analysis.ipynb\" target=\"_parent\"><img src=\"https://colab.research.google.com/assets/colab-badge.svg\" alt=\"Open In Colab\"/></a>"
      ]
    },
    {
      "cell_type": "markdown",
      "id": "2dcfe90a",
      "metadata": {
        "id": "2dcfe90a"
      },
      "source": [
        "<br><br><span style='font-size:50px'>Reading and Discovering the Dataset</span>"
      ]
    },
    {
      "cell_type": "markdown",
      "id": "35fc9c0e",
      "metadata": {
        "id": "35fc9c0e"
      },
      "source": [
        "<p>Dataset Source: <a href=https://www.kaggle.com/datasets/columbine/imdb-dataset-sentiment-analysis-in-csv-format>https://www.kaggle.com/datasets/columbine/imdb-dataset-sentiment-analysis-in-csv-format</a></p>"
      ]
    },
    {
      "cell_type": "code",
      "execution_count": 8,
      "id": "56636a97",
      "metadata": {
        "id": "56636a97"
      },
      "outputs": [],
      "source": [
        "import pandas as pd"
      ]
    },
    {
      "cell_type": "code",
      "execution_count": 9,
      "id": "afbd1d11",
      "metadata": {
        "id": "afbd1d11"
      },
      "outputs": [],
      "source": [
        "data = pd.read_csv('/content/Test.csv')"
      ]
    },
    {
      "cell_type": "code",
      "execution_count": 10,
      "id": "ed0e4ed4",
      "metadata": {
        "colab": {
          "base_uri": "https://localhost:8080/",
          "height": 676
        },
        "id": "ed0e4ed4",
        "outputId": "153a5315-bd6b-4b14-ca53-3228fac4555b"
      },
      "outputs": [
        {
          "output_type": "execute_result",
          "data": {
            "text/plain": [
              "                                                 text  label\n",
              "0   I always wrote this series off as being a comp...      0\n",
              "1   1st watched 12/7/2002 - 3 out of 10(Dir-Steve ...      0\n",
              "2   This movie was so poorly written and directed ...      0\n",
              "3   The most interesting thing about Miryang (Secr...      1\n",
              "4   when i first read about \"berlin am meer\" i did...      0\n",
              "5   I saw this film on September 1st, 2005 in Indi...      1\n",
              "6   I saw a screening of this movie last night. I ...      0\n",
              "7   William Hurt may not be an American matinee id...      1\n",
              "8   IT IS A PIECE OF CRAP! not funny at all. durin...      0\n",
              "9   I'M BOUT IT(1997)<br /><br />Developed & publi...      0\n",
              "10  I had a recent spectator experience with The P...      0\n",
              "11  I really enjoyed the detail that went into the...      1\n",
              "12  Didn't the writer for this movie see the other...      0\n",
              "13  This movie was really bad. First they didn't e...      0\n",
              "14  I think I watched a highly edited version beca...      0\n",
              "15  Uwe Boll has done the impossible: create a gam...      0\n",
              "16  I felt asleep, watching it!!! (and I had ticke...      0\n",
              "17  Brass pictures (movies is not a fitting word f...      0\n",
              "18  My interest was raised as I was flipping throu...      1\n",
              "19  Pity the Monkees. People always accused them o...      1"
            ],
            "text/html": [
              "\n",
              "  <div id=\"df-cb6405ac-fadb-47e6-8abb-824ad857c56a\" class=\"colab-df-container\">\n",
              "    <div>\n",
              "<style scoped>\n",
              "    .dataframe tbody tr th:only-of-type {\n",
              "        vertical-align: middle;\n",
              "    }\n",
              "\n",
              "    .dataframe tbody tr th {\n",
              "        vertical-align: top;\n",
              "    }\n",
              "\n",
              "    .dataframe thead th {\n",
              "        text-align: right;\n",
              "    }\n",
              "</style>\n",
              "<table border=\"1\" class=\"dataframe\">\n",
              "  <thead>\n",
              "    <tr style=\"text-align: right;\">\n",
              "      <th></th>\n",
              "      <th>text</th>\n",
              "      <th>label</th>\n",
              "    </tr>\n",
              "  </thead>\n",
              "  <tbody>\n",
              "    <tr>\n",
              "      <th>0</th>\n",
              "      <td>I always wrote this series off as being a comp...</td>\n",
              "      <td>0</td>\n",
              "    </tr>\n",
              "    <tr>\n",
              "      <th>1</th>\n",
              "      <td>1st watched 12/7/2002 - 3 out of 10(Dir-Steve ...</td>\n",
              "      <td>0</td>\n",
              "    </tr>\n",
              "    <tr>\n",
              "      <th>2</th>\n",
              "      <td>This movie was so poorly written and directed ...</td>\n",
              "      <td>0</td>\n",
              "    </tr>\n",
              "    <tr>\n",
              "      <th>3</th>\n",
              "      <td>The most interesting thing about Miryang (Secr...</td>\n",
              "      <td>1</td>\n",
              "    </tr>\n",
              "    <tr>\n",
              "      <th>4</th>\n",
              "      <td>when i first read about \"berlin am meer\" i did...</td>\n",
              "      <td>0</td>\n",
              "    </tr>\n",
              "    <tr>\n",
              "      <th>5</th>\n",
              "      <td>I saw this film on September 1st, 2005 in Indi...</td>\n",
              "      <td>1</td>\n",
              "    </tr>\n",
              "    <tr>\n",
              "      <th>6</th>\n",
              "      <td>I saw a screening of this movie last night. I ...</td>\n",
              "      <td>0</td>\n",
              "    </tr>\n",
              "    <tr>\n",
              "      <th>7</th>\n",
              "      <td>William Hurt may not be an American matinee id...</td>\n",
              "      <td>1</td>\n",
              "    </tr>\n",
              "    <tr>\n",
              "      <th>8</th>\n",
              "      <td>IT IS A PIECE OF CRAP! not funny at all. durin...</td>\n",
              "      <td>0</td>\n",
              "    </tr>\n",
              "    <tr>\n",
              "      <th>9</th>\n",
              "      <td>I'M BOUT IT(1997)&lt;br /&gt;&lt;br /&gt;Developed &amp; publi...</td>\n",
              "      <td>0</td>\n",
              "    </tr>\n",
              "    <tr>\n",
              "      <th>10</th>\n",
              "      <td>I had a recent spectator experience with The P...</td>\n",
              "      <td>0</td>\n",
              "    </tr>\n",
              "    <tr>\n",
              "      <th>11</th>\n",
              "      <td>I really enjoyed the detail that went into the...</td>\n",
              "      <td>1</td>\n",
              "    </tr>\n",
              "    <tr>\n",
              "      <th>12</th>\n",
              "      <td>Didn't the writer for this movie see the other...</td>\n",
              "      <td>0</td>\n",
              "    </tr>\n",
              "    <tr>\n",
              "      <th>13</th>\n",
              "      <td>This movie was really bad. First they didn't e...</td>\n",
              "      <td>0</td>\n",
              "    </tr>\n",
              "    <tr>\n",
              "      <th>14</th>\n",
              "      <td>I think I watched a highly edited version beca...</td>\n",
              "      <td>0</td>\n",
              "    </tr>\n",
              "    <tr>\n",
              "      <th>15</th>\n",
              "      <td>Uwe Boll has done the impossible: create a gam...</td>\n",
              "      <td>0</td>\n",
              "    </tr>\n",
              "    <tr>\n",
              "      <th>16</th>\n",
              "      <td>I felt asleep, watching it!!! (and I had ticke...</td>\n",
              "      <td>0</td>\n",
              "    </tr>\n",
              "    <tr>\n",
              "      <th>17</th>\n",
              "      <td>Brass pictures (movies is not a fitting word f...</td>\n",
              "      <td>0</td>\n",
              "    </tr>\n",
              "    <tr>\n",
              "      <th>18</th>\n",
              "      <td>My interest was raised as I was flipping throu...</td>\n",
              "      <td>1</td>\n",
              "    </tr>\n",
              "    <tr>\n",
              "      <th>19</th>\n",
              "      <td>Pity the Monkees. People always accused them o...</td>\n",
              "      <td>1</td>\n",
              "    </tr>\n",
              "  </tbody>\n",
              "</table>\n",
              "</div>\n",
              "    <div class=\"colab-df-buttons\">\n",
              "\n",
              "  <div class=\"colab-df-container\">\n",
              "    <button class=\"colab-df-convert\" onclick=\"convertToInteractive('df-cb6405ac-fadb-47e6-8abb-824ad857c56a')\"\n",
              "            title=\"Convert this dataframe to an interactive table.\"\n",
              "            style=\"display:none;\">\n",
              "\n",
              "  <svg xmlns=\"http://www.w3.org/2000/svg\" height=\"24px\" viewBox=\"0 -960 960 960\">\n",
              "    <path d=\"M120-120v-720h720v720H120Zm60-500h600v-160H180v160Zm220 220h160v-160H400v160Zm0 220h160v-160H400v160ZM180-400h160v-160H180v160Zm440 0h160v-160H620v160ZM180-180h160v-160H180v160Zm440 0h160v-160H620v160Z\"/>\n",
              "  </svg>\n",
              "    </button>\n",
              "\n",
              "  <style>\n",
              "    .colab-df-container {\n",
              "      display:flex;\n",
              "      gap: 12px;\n",
              "    }\n",
              "\n",
              "    .colab-df-convert {\n",
              "      background-color: #E8F0FE;\n",
              "      border: none;\n",
              "      border-radius: 50%;\n",
              "      cursor: pointer;\n",
              "      display: none;\n",
              "      fill: #1967D2;\n",
              "      height: 32px;\n",
              "      padding: 0 0 0 0;\n",
              "      width: 32px;\n",
              "    }\n",
              "\n",
              "    .colab-df-convert:hover {\n",
              "      background-color: #E2EBFA;\n",
              "      box-shadow: 0px 1px 2px rgba(60, 64, 67, 0.3), 0px 1px 3px 1px rgba(60, 64, 67, 0.15);\n",
              "      fill: #174EA6;\n",
              "    }\n",
              "\n",
              "    .colab-df-buttons div {\n",
              "      margin-bottom: 4px;\n",
              "    }\n",
              "\n",
              "    [theme=dark] .colab-df-convert {\n",
              "      background-color: #3B4455;\n",
              "      fill: #D2E3FC;\n",
              "    }\n",
              "\n",
              "    [theme=dark] .colab-df-convert:hover {\n",
              "      background-color: #434B5C;\n",
              "      box-shadow: 0px 1px 3px 1px rgba(0, 0, 0, 0.15);\n",
              "      filter: drop-shadow(0px 1px 2px rgba(0, 0, 0, 0.3));\n",
              "      fill: #FFFFFF;\n",
              "    }\n",
              "  </style>\n",
              "\n",
              "    <script>\n",
              "      const buttonEl =\n",
              "        document.querySelector('#df-cb6405ac-fadb-47e6-8abb-824ad857c56a button.colab-df-convert');\n",
              "      buttonEl.style.display =\n",
              "        google.colab.kernel.accessAllowed ? 'block' : 'none';\n",
              "\n",
              "      async function convertToInteractive(key) {\n",
              "        const element = document.querySelector('#df-cb6405ac-fadb-47e6-8abb-824ad857c56a');\n",
              "        const dataTable =\n",
              "          await google.colab.kernel.invokeFunction('convertToInteractive',\n",
              "                                                    [key], {});\n",
              "        if (!dataTable) return;\n",
              "\n",
              "        const docLinkHtml = 'Like what you see? Visit the ' +\n",
              "          '<a target=\"_blank\" href=https://colab.research.google.com/notebooks/data_table.ipynb>data table notebook</a>'\n",
              "          + ' to learn more about interactive tables.';\n",
              "        element.innerHTML = '';\n",
              "        dataTable['output_type'] = 'display_data';\n",
              "        await google.colab.output.renderOutput(dataTable, element);\n",
              "        const docLink = document.createElement('div');\n",
              "        docLink.innerHTML = docLinkHtml;\n",
              "        element.appendChild(docLink);\n",
              "      }\n",
              "    </script>\n",
              "  </div>\n",
              "\n",
              "\n",
              "<div id=\"df-09b0f6f1-40a8-41d8-9655-c0f6cc45fc08\">\n",
              "  <button class=\"colab-df-quickchart\" onclick=\"quickchart('df-09b0f6f1-40a8-41d8-9655-c0f6cc45fc08')\"\n",
              "            title=\"Suggest charts\"\n",
              "            style=\"display:none;\">\n",
              "\n",
              "<svg xmlns=\"http://www.w3.org/2000/svg\" height=\"24px\"viewBox=\"0 0 24 24\"\n",
              "     width=\"24px\">\n",
              "    <g>\n",
              "        <path d=\"M19 3H5c-1.1 0-2 .9-2 2v14c0 1.1.9 2 2 2h14c1.1 0 2-.9 2-2V5c0-1.1-.9-2-2-2zM9 17H7v-7h2v7zm4 0h-2V7h2v10zm4 0h-2v-4h2v4z\"/>\n",
              "    </g>\n",
              "</svg>\n",
              "  </button>\n",
              "\n",
              "<style>\n",
              "  .colab-df-quickchart {\n",
              "      --bg-color: #E8F0FE;\n",
              "      --fill-color: #1967D2;\n",
              "      --hover-bg-color: #E2EBFA;\n",
              "      --hover-fill-color: #174EA6;\n",
              "      --disabled-fill-color: #AAA;\n",
              "      --disabled-bg-color: #DDD;\n",
              "  }\n",
              "\n",
              "  [theme=dark] .colab-df-quickchart {\n",
              "      --bg-color: #3B4455;\n",
              "      --fill-color: #D2E3FC;\n",
              "      --hover-bg-color: #434B5C;\n",
              "      --hover-fill-color: #FFFFFF;\n",
              "      --disabled-bg-color: #3B4455;\n",
              "      --disabled-fill-color: #666;\n",
              "  }\n",
              "\n",
              "  .colab-df-quickchart {\n",
              "    background-color: var(--bg-color);\n",
              "    border: none;\n",
              "    border-radius: 50%;\n",
              "    cursor: pointer;\n",
              "    display: none;\n",
              "    fill: var(--fill-color);\n",
              "    height: 32px;\n",
              "    padding: 0;\n",
              "    width: 32px;\n",
              "  }\n",
              "\n",
              "  .colab-df-quickchart:hover {\n",
              "    background-color: var(--hover-bg-color);\n",
              "    box-shadow: 0 1px 2px rgba(60, 64, 67, 0.3), 0 1px 3px 1px rgba(60, 64, 67, 0.15);\n",
              "    fill: var(--button-hover-fill-color);\n",
              "  }\n",
              "\n",
              "  .colab-df-quickchart-complete:disabled,\n",
              "  .colab-df-quickchart-complete:disabled:hover {\n",
              "    background-color: var(--disabled-bg-color);\n",
              "    fill: var(--disabled-fill-color);\n",
              "    box-shadow: none;\n",
              "  }\n",
              "\n",
              "  .colab-df-spinner {\n",
              "    border: 2px solid var(--fill-color);\n",
              "    border-color: transparent;\n",
              "    border-bottom-color: var(--fill-color);\n",
              "    animation:\n",
              "      spin 1s steps(1) infinite;\n",
              "  }\n",
              "\n",
              "  @keyframes spin {\n",
              "    0% {\n",
              "      border-color: transparent;\n",
              "      border-bottom-color: var(--fill-color);\n",
              "      border-left-color: var(--fill-color);\n",
              "    }\n",
              "    20% {\n",
              "      border-color: transparent;\n",
              "      border-left-color: var(--fill-color);\n",
              "      border-top-color: var(--fill-color);\n",
              "    }\n",
              "    30% {\n",
              "      border-color: transparent;\n",
              "      border-left-color: var(--fill-color);\n",
              "      border-top-color: var(--fill-color);\n",
              "      border-right-color: var(--fill-color);\n",
              "    }\n",
              "    40% {\n",
              "      border-color: transparent;\n",
              "      border-right-color: var(--fill-color);\n",
              "      border-top-color: var(--fill-color);\n",
              "    }\n",
              "    60% {\n",
              "      border-color: transparent;\n",
              "      border-right-color: var(--fill-color);\n",
              "    }\n",
              "    80% {\n",
              "      border-color: transparent;\n",
              "      border-right-color: var(--fill-color);\n",
              "      border-bottom-color: var(--fill-color);\n",
              "    }\n",
              "    90% {\n",
              "      border-color: transparent;\n",
              "      border-bottom-color: var(--fill-color);\n",
              "    }\n",
              "  }\n",
              "</style>\n",
              "\n",
              "  <script>\n",
              "    async function quickchart(key) {\n",
              "      const quickchartButtonEl =\n",
              "        document.querySelector('#' + key + ' button');\n",
              "      quickchartButtonEl.disabled = true;  // To prevent multiple clicks.\n",
              "      quickchartButtonEl.classList.add('colab-df-spinner');\n",
              "      try {\n",
              "        const charts = await google.colab.kernel.invokeFunction(\n",
              "            'suggestCharts', [key], {});\n",
              "      } catch (error) {\n",
              "        console.error('Error during call to suggestCharts:', error);\n",
              "      }\n",
              "      quickchartButtonEl.classList.remove('colab-df-spinner');\n",
              "      quickchartButtonEl.classList.add('colab-df-quickchart-complete');\n",
              "    }\n",
              "    (() => {\n",
              "      let quickchartButtonEl =\n",
              "        document.querySelector('#df-09b0f6f1-40a8-41d8-9655-c0f6cc45fc08 button');\n",
              "      quickchartButtonEl.style.display =\n",
              "        google.colab.kernel.accessAllowed ? 'block' : 'none';\n",
              "    })();\n",
              "  </script>\n",
              "</div>\n",
              "\n",
              "    </div>\n",
              "  </div>\n"
            ],
            "application/vnd.google.colaboratory.intrinsic+json": {
              "type": "dataframe",
              "variable_name": "data",
              "summary": "{\n  \"name\": \"data\",\n  \"rows\": 5000,\n  \"fields\": [\n    {\n      \"column\": \"text\",\n      \"properties\": {\n        \"dtype\": \"string\",\n        \"num_unique_values\": 4995,\n        \"samples\": [\n          \"I'm the sort of person who went down to the local library and read books on Babbage's difference engine whilst my schoolmates were playing football etc.. So, if there is any such thing as a target audience for this film, then I guess I'd probably be included in that.<br /><br />Maybe I just need to watch it again. A previous reviewer mentioned not to watch this film whilst being tired. Maybe that was my mistake.<br /><br />I tried my best to enjoy this film, and there are aspects of it that I do like, but overall I found it amateurish and quite plodding.<br /><br />Being somewhat of a self confessed computer nerd, I just can't help but pick up on the exact time frame when the movie was actually made, and how the employed graphics reflect that time (i.e. 1997). Having played games of the era c.f. \\\"Mind Grind\\\" to cite one example, this film cannot escape that 16-bit colour low res multimedia explosion of that time. Now thankfully this has somewhat lessened in more recent years in the gaming world at least, in favour of actual game play.<br /><br />Having to resort to watching this movie via a German FTA satellite channel (as I don't think it's ever been aired on UK FTA TV, well not recently anyway), I was mildly amused to see the end credits note Gottdog (God dog) had 4 people working on it's design. Maybe it's mean spirited of me to be amused by this, given that ten years have elapsed since the movie was made, nevertheless the end result makes movie graphics from the eighties look good by comparison.<br /><br />But, as for the main story, I agree that the format isn't the best idea. Like others I agree that Ada deserves a film without the sci-fi angle, and a more straightforward biographical approach would perhaps be better suited to covering the life story of this remarkable lady.<br /><br />There are fundamental mistakes that undermine my enjoyment of this movie. First of all the underlying idea that somehow lost real-world information from the past can be accurately reconstructed through some sort of extrapolation via software based intelligent agents, seems somehow ludicrous.<br /><br />Also, the theme running through the movie that a computing device can indeed predict the mechanics of all things through the course of time (e.g. the winds) is now known not to be the case.<br /><br />OK, so the Victorians may have held this view, but the 20th century works of G\\u00f6del proving that no mathematical system can be complete, Turing's works on the limits of computability, not to mention chaos theory and quantum mechanics, have all completely undermined these ideas, which seem central to how the modern day researcher's software is supposed to work.<br /><br />Finally, the clicking of the mouse in the air to mean \\\"programming\\\" is also just plain wrong, as previously mentioned.<br /><br />This film maybe could have been OK, but at least some technical and scientific consultation would have given the film some much needed credit in the believability stakes.<br /><br />I won't forget the film though, as like \\\"Pi\\\", it is clearly a unique work, but with too many fatal mistakes for me to truly enjoy it, 3/10 from me.\",\n          \"I have two good things to say about this film: the scenery is beautiful and Peter Falk gives a good performance (considering what he had to work with in terms of dialog and direction). However, that said, I found this film extremely tiresome. Watching paint dry would have been more entertaining. It seemed much longer than 97 minutes. Beginning with opening sequence, where everyone is talking over each other and Paul Reiser is repeating everything that's said to him on the phone, the movie is annoying. The film is filled with clich\\u00e9s and shtick, not to mention endless incidents of audible flatulence by Falk. Also, the director seems to have had difficulty deciding whether to aim for laughs or tears. There are some sequences that are touching, but they're all played for laughs. If schmaltzy, sentimental, and \\\"cute\\\" appeal to you, you'll love it. But if you were hoping for something with more substance, see a different movie.\",\n          \"Strained and humorless (especially in light of its rather dubious psychology), but well-paced and comfortably lurid, this genteel body count movie highlights the unusually hypnotic presence of Angharad Rees as a young woman periodically possessed by Jack the Ripper, thus allowing for some nasty gore effects amidst the Edwardian propriety. It's all pretty standard stuff for Hammer, but is handled with a good deal of visual elan, even if the central relationship, between psychoanalyst Porter and Rees, drives the narrative without ever being satisfactorily explained.\"\n        ],\n        \"semantic_type\": \"\",\n        \"description\": \"\"\n      }\n    },\n    {\n      \"column\": \"label\",\n      \"properties\": {\n        \"dtype\": \"number\",\n        \"std\": 0,\n        \"min\": 0,\n        \"max\": 1,\n        \"num_unique_values\": 2,\n        \"samples\": [\n          1,\n          0\n        ],\n        \"semantic_type\": \"\",\n        \"description\": \"\"\n      }\n    }\n  ]\n}"
            }
          },
          "metadata": {},
          "execution_count": 10
        }
      ],
      "source": [
        "data.head(20)"
      ]
    },
    {
      "cell_type": "code",
      "execution_count": 11,
      "id": "f7d5d257",
      "metadata": {
        "colab": {
          "base_uri": "https://localhost:8080/",
          "height": 363
        },
        "id": "f7d5d257",
        "outputId": "eb7b1618-68ce-4c75-8bb9-0861f0871503"
      },
      "outputs": [
        {
          "output_type": "execute_result",
          "data": {
            "text/plain": [
              "                                                   text  label\n",
              "2968  This show is painful to watch ...<br /><br />I...      0\n",
              "1482  D'Amato's hardcore/horror hybrid doesn't reall...      0\n",
              "1398  This was filmed back-to-back with the 1992 re-...      0\n",
              "4359  Chuck Jones's 'Hare Conditioned' is a fast pac...      1\n",
              "4161  I wouldn't say this is a *bad* movie. Unfortun...      0\n",
              "4743  What makes this low budget production one of m...      1\n",
              "2666  Sometimes the Academy doesn't recognize the po...      1\n",
              "1088  It was a bit bizarre and evil and i enjoyed it...      1\n",
              "292   it's a beautiful film.the scenes are well pict...      1\n",
              "3254  Cactus Flower is what I call a \"pizza movie\" -...      1"
            ],
            "text/html": [
              "\n",
              "  <div id=\"df-d08da4b3-84ee-4d33-9e0e-3d2c4800fe5d\" class=\"colab-df-container\">\n",
              "    <div>\n",
              "<style scoped>\n",
              "    .dataframe tbody tr th:only-of-type {\n",
              "        vertical-align: middle;\n",
              "    }\n",
              "\n",
              "    .dataframe tbody tr th {\n",
              "        vertical-align: top;\n",
              "    }\n",
              "\n",
              "    .dataframe thead th {\n",
              "        text-align: right;\n",
              "    }\n",
              "</style>\n",
              "<table border=\"1\" class=\"dataframe\">\n",
              "  <thead>\n",
              "    <tr style=\"text-align: right;\">\n",
              "      <th></th>\n",
              "      <th>text</th>\n",
              "      <th>label</th>\n",
              "    </tr>\n",
              "  </thead>\n",
              "  <tbody>\n",
              "    <tr>\n",
              "      <th>2968</th>\n",
              "      <td>This show is painful to watch ...&lt;br /&gt;&lt;br /&gt;I...</td>\n",
              "      <td>0</td>\n",
              "    </tr>\n",
              "    <tr>\n",
              "      <th>1482</th>\n",
              "      <td>D'Amato's hardcore/horror hybrid doesn't reall...</td>\n",
              "      <td>0</td>\n",
              "    </tr>\n",
              "    <tr>\n",
              "      <th>1398</th>\n",
              "      <td>This was filmed back-to-back with the 1992 re-...</td>\n",
              "      <td>0</td>\n",
              "    </tr>\n",
              "    <tr>\n",
              "      <th>4359</th>\n",
              "      <td>Chuck Jones's 'Hare Conditioned' is a fast pac...</td>\n",
              "      <td>1</td>\n",
              "    </tr>\n",
              "    <tr>\n",
              "      <th>4161</th>\n",
              "      <td>I wouldn't say this is a *bad* movie. Unfortun...</td>\n",
              "      <td>0</td>\n",
              "    </tr>\n",
              "    <tr>\n",
              "      <th>4743</th>\n",
              "      <td>What makes this low budget production one of m...</td>\n",
              "      <td>1</td>\n",
              "    </tr>\n",
              "    <tr>\n",
              "      <th>2666</th>\n",
              "      <td>Sometimes the Academy doesn't recognize the po...</td>\n",
              "      <td>1</td>\n",
              "    </tr>\n",
              "    <tr>\n",
              "      <th>1088</th>\n",
              "      <td>It was a bit bizarre and evil and i enjoyed it...</td>\n",
              "      <td>1</td>\n",
              "    </tr>\n",
              "    <tr>\n",
              "      <th>292</th>\n",
              "      <td>it's a beautiful film.the scenes are well pict...</td>\n",
              "      <td>1</td>\n",
              "    </tr>\n",
              "    <tr>\n",
              "      <th>3254</th>\n",
              "      <td>Cactus Flower is what I call a \"pizza movie\" -...</td>\n",
              "      <td>1</td>\n",
              "    </tr>\n",
              "  </tbody>\n",
              "</table>\n",
              "</div>\n",
              "    <div class=\"colab-df-buttons\">\n",
              "\n",
              "  <div class=\"colab-df-container\">\n",
              "    <button class=\"colab-df-convert\" onclick=\"convertToInteractive('df-d08da4b3-84ee-4d33-9e0e-3d2c4800fe5d')\"\n",
              "            title=\"Convert this dataframe to an interactive table.\"\n",
              "            style=\"display:none;\">\n",
              "\n",
              "  <svg xmlns=\"http://www.w3.org/2000/svg\" height=\"24px\" viewBox=\"0 -960 960 960\">\n",
              "    <path d=\"M120-120v-720h720v720H120Zm60-500h600v-160H180v160Zm220 220h160v-160H400v160Zm0 220h160v-160H400v160ZM180-400h160v-160H180v160Zm440 0h160v-160H620v160ZM180-180h160v-160H180v160Zm440 0h160v-160H620v160Z\"/>\n",
              "  </svg>\n",
              "    </button>\n",
              "\n",
              "  <style>\n",
              "    .colab-df-container {\n",
              "      display:flex;\n",
              "      gap: 12px;\n",
              "    }\n",
              "\n",
              "    .colab-df-convert {\n",
              "      background-color: #E8F0FE;\n",
              "      border: none;\n",
              "      border-radius: 50%;\n",
              "      cursor: pointer;\n",
              "      display: none;\n",
              "      fill: #1967D2;\n",
              "      height: 32px;\n",
              "      padding: 0 0 0 0;\n",
              "      width: 32px;\n",
              "    }\n",
              "\n",
              "    .colab-df-convert:hover {\n",
              "      background-color: #E2EBFA;\n",
              "      box-shadow: 0px 1px 2px rgba(60, 64, 67, 0.3), 0px 1px 3px 1px rgba(60, 64, 67, 0.15);\n",
              "      fill: #174EA6;\n",
              "    }\n",
              "\n",
              "    .colab-df-buttons div {\n",
              "      margin-bottom: 4px;\n",
              "    }\n",
              "\n",
              "    [theme=dark] .colab-df-convert {\n",
              "      background-color: #3B4455;\n",
              "      fill: #D2E3FC;\n",
              "    }\n",
              "\n",
              "    [theme=dark] .colab-df-convert:hover {\n",
              "      background-color: #434B5C;\n",
              "      box-shadow: 0px 1px 3px 1px rgba(0, 0, 0, 0.15);\n",
              "      filter: drop-shadow(0px 1px 2px rgba(0, 0, 0, 0.3));\n",
              "      fill: #FFFFFF;\n",
              "    }\n",
              "  </style>\n",
              "\n",
              "    <script>\n",
              "      const buttonEl =\n",
              "        document.querySelector('#df-d08da4b3-84ee-4d33-9e0e-3d2c4800fe5d button.colab-df-convert');\n",
              "      buttonEl.style.display =\n",
              "        google.colab.kernel.accessAllowed ? 'block' : 'none';\n",
              "\n",
              "      async function convertToInteractive(key) {\n",
              "        const element = document.querySelector('#df-d08da4b3-84ee-4d33-9e0e-3d2c4800fe5d');\n",
              "        const dataTable =\n",
              "          await google.colab.kernel.invokeFunction('convertToInteractive',\n",
              "                                                    [key], {});\n",
              "        if (!dataTable) return;\n",
              "\n",
              "        const docLinkHtml = 'Like what you see? Visit the ' +\n",
              "          '<a target=\"_blank\" href=https://colab.research.google.com/notebooks/data_table.ipynb>data table notebook</a>'\n",
              "          + ' to learn more about interactive tables.';\n",
              "        element.innerHTML = '';\n",
              "        dataTable['output_type'] = 'display_data';\n",
              "        await google.colab.output.renderOutput(dataTable, element);\n",
              "        const docLink = document.createElement('div');\n",
              "        docLink.innerHTML = docLinkHtml;\n",
              "        element.appendChild(docLink);\n",
              "      }\n",
              "    </script>\n",
              "  </div>\n",
              "\n",
              "\n",
              "<div id=\"df-e30907df-7297-4c6a-9b76-845039fc52b9\">\n",
              "  <button class=\"colab-df-quickchart\" onclick=\"quickchart('df-e30907df-7297-4c6a-9b76-845039fc52b9')\"\n",
              "            title=\"Suggest charts\"\n",
              "            style=\"display:none;\">\n",
              "\n",
              "<svg xmlns=\"http://www.w3.org/2000/svg\" height=\"24px\"viewBox=\"0 0 24 24\"\n",
              "     width=\"24px\">\n",
              "    <g>\n",
              "        <path d=\"M19 3H5c-1.1 0-2 .9-2 2v14c0 1.1.9 2 2 2h14c1.1 0 2-.9 2-2V5c0-1.1-.9-2-2-2zM9 17H7v-7h2v7zm4 0h-2V7h2v10zm4 0h-2v-4h2v4z\"/>\n",
              "    </g>\n",
              "</svg>\n",
              "  </button>\n",
              "\n",
              "<style>\n",
              "  .colab-df-quickchart {\n",
              "      --bg-color: #E8F0FE;\n",
              "      --fill-color: #1967D2;\n",
              "      --hover-bg-color: #E2EBFA;\n",
              "      --hover-fill-color: #174EA6;\n",
              "      --disabled-fill-color: #AAA;\n",
              "      --disabled-bg-color: #DDD;\n",
              "  }\n",
              "\n",
              "  [theme=dark] .colab-df-quickchart {\n",
              "      --bg-color: #3B4455;\n",
              "      --fill-color: #D2E3FC;\n",
              "      --hover-bg-color: #434B5C;\n",
              "      --hover-fill-color: #FFFFFF;\n",
              "      --disabled-bg-color: #3B4455;\n",
              "      --disabled-fill-color: #666;\n",
              "  }\n",
              "\n",
              "  .colab-df-quickchart {\n",
              "    background-color: var(--bg-color);\n",
              "    border: none;\n",
              "    border-radius: 50%;\n",
              "    cursor: pointer;\n",
              "    display: none;\n",
              "    fill: var(--fill-color);\n",
              "    height: 32px;\n",
              "    padding: 0;\n",
              "    width: 32px;\n",
              "  }\n",
              "\n",
              "  .colab-df-quickchart:hover {\n",
              "    background-color: var(--hover-bg-color);\n",
              "    box-shadow: 0 1px 2px rgba(60, 64, 67, 0.3), 0 1px 3px 1px rgba(60, 64, 67, 0.15);\n",
              "    fill: var(--button-hover-fill-color);\n",
              "  }\n",
              "\n",
              "  .colab-df-quickchart-complete:disabled,\n",
              "  .colab-df-quickchart-complete:disabled:hover {\n",
              "    background-color: var(--disabled-bg-color);\n",
              "    fill: var(--disabled-fill-color);\n",
              "    box-shadow: none;\n",
              "  }\n",
              "\n",
              "  .colab-df-spinner {\n",
              "    border: 2px solid var(--fill-color);\n",
              "    border-color: transparent;\n",
              "    border-bottom-color: var(--fill-color);\n",
              "    animation:\n",
              "      spin 1s steps(1) infinite;\n",
              "  }\n",
              "\n",
              "  @keyframes spin {\n",
              "    0% {\n",
              "      border-color: transparent;\n",
              "      border-bottom-color: var(--fill-color);\n",
              "      border-left-color: var(--fill-color);\n",
              "    }\n",
              "    20% {\n",
              "      border-color: transparent;\n",
              "      border-left-color: var(--fill-color);\n",
              "      border-top-color: var(--fill-color);\n",
              "    }\n",
              "    30% {\n",
              "      border-color: transparent;\n",
              "      border-left-color: var(--fill-color);\n",
              "      border-top-color: var(--fill-color);\n",
              "      border-right-color: var(--fill-color);\n",
              "    }\n",
              "    40% {\n",
              "      border-color: transparent;\n",
              "      border-right-color: var(--fill-color);\n",
              "      border-top-color: var(--fill-color);\n",
              "    }\n",
              "    60% {\n",
              "      border-color: transparent;\n",
              "      border-right-color: var(--fill-color);\n",
              "    }\n",
              "    80% {\n",
              "      border-color: transparent;\n",
              "      border-right-color: var(--fill-color);\n",
              "      border-bottom-color: var(--fill-color);\n",
              "    }\n",
              "    90% {\n",
              "      border-color: transparent;\n",
              "      border-bottom-color: var(--fill-color);\n",
              "    }\n",
              "  }\n",
              "</style>\n",
              "\n",
              "  <script>\n",
              "    async function quickchart(key) {\n",
              "      const quickchartButtonEl =\n",
              "        document.querySelector('#' + key + ' button');\n",
              "      quickchartButtonEl.disabled = true;  // To prevent multiple clicks.\n",
              "      quickchartButtonEl.classList.add('colab-df-spinner');\n",
              "      try {\n",
              "        const charts = await google.colab.kernel.invokeFunction(\n",
              "            'suggestCharts', [key], {});\n",
              "      } catch (error) {\n",
              "        console.error('Error during call to suggestCharts:', error);\n",
              "      }\n",
              "      quickchartButtonEl.classList.remove('colab-df-spinner');\n",
              "      quickchartButtonEl.classList.add('colab-df-quickchart-complete');\n",
              "    }\n",
              "    (() => {\n",
              "      let quickchartButtonEl =\n",
              "        document.querySelector('#df-e30907df-7297-4c6a-9b76-845039fc52b9 button');\n",
              "      quickchartButtonEl.style.display =\n",
              "        google.colab.kernel.accessAllowed ? 'block' : 'none';\n",
              "    })();\n",
              "  </script>\n",
              "</div>\n",
              "\n",
              "    </div>\n",
              "  </div>\n"
            ],
            "application/vnd.google.colaboratory.intrinsic+json": {
              "type": "dataframe",
              "summary": "{\n  \"name\": \"data\",\n  \"rows\": 10,\n  \"fields\": [\n    {\n      \"column\": \"text\",\n      \"properties\": {\n        \"dtype\": \"string\",\n        \"num_unique_values\": 10,\n        \"samples\": [\n          \"it's a beautiful film.the scenes are well pictured.Anne Revere 's dialogs are really well written and inspiring,the philosophy and thoughts that this film gives and the things it teaches makes it great and wonderful.<br /><br />Mickey Rooney is great in the movie and his role goes through lot of emotional turmoil as the film progresses.<br /><br />Elizabeth Taylor looks very pretty,her scenes in the film are inherently poetic,the way camera follows her and the way the music make you feel make every scene of her ethereally beautiful.<br /><br />this movie has great spirit and a beloved cherished classic.<br /><br />Angela Lansbury is quite amusing in her role though unrecognizable if you have seen her in role of 'm' in 'the Manchurian Candidate'.<br /><br />Donald Crisp has done his father's role full justice and the script provides him with ample stuff to justify his role.<br /><br />its a very nice film and a must watch for family and children an evergreen Christmas favorite.\",\n          \"D'Amato's hardcore/horror hybrid doesn't really live up to its extraordinary title and intriguing premise, wherein various vapid contemporary types are attacked by a monster on an Atoll previously used for nuclear experiments, but for the most part the film is so slow, the action so dreary and the cast so clearly repulsed to be having to have sex with each other that the film becomes a chore to watch.<br /><br />This is a pity, because the film sets up a promising idea. A group of scientists are taken to the Atoll by a naval officer in a small vessel. The scientists \\u0096 three women and two men \\u0096 are an intriguing cross section of sexual types, suffering to various degrees from nymphomania, co-dependency and frigidity; there's even an intriguing foray into the world of female sex tourism, where one of the women stops off at a brothel to get serviced by two hunky Caribbean studs for hire. The creature himself \\u0096 a mangled native Islander with a horribly scarred face and an unfeasibly long pizzle \\u0096 bears some affinities with the old Creature from the Black Lagoon and is the kind of nuclear nightmare that has hovered over postmodern man since the cold war commenced, despite those of us in the West having retreated into hedonism and relativistic science.<br /><br />Porno Holocaust certainly is a film which shows the post-sexual revolution Westerners coming across their mirror image in a nuclear monster, yet the torpidity with which it unfolds really lets down the fierceness of the idea. There is a promising interplay of action shots with POV shots, which suggest that the monster (who looks/stalks on as horror monsters from their POV position tend to do) is akin to the voyeur in the audience getting off on the sex between the \\\"beautiful people.\\\" The sight of the monster forcing a gorgeous young woman to suck his over-sized member certainly throws the target audience's ugly fantasies in their face. But D'Amato has developed similar ideas better in other films, and Porno Holocaust is a potentially fierce idea let down by the execution (even D'Amato's usual cinematographic skills let him down with much dreary camera-work).\",\n          \"What makes this low budget production one of my favorite movies? Not kidding, i was watching it already 10 times or so and did not get tired. Is it the tender melancholia throughout the whole thing? Is it the similarity to classics like \\\"Niagara\\\"? I was thinking a long time about that. And figured it out: I guess it is: there is no hero, there are only people. Some try to be good. Some gave up trying to be good. Some are hopeless cases but carry still the spunk of being human inside. It is the story of a catastrophic night in a motel at the end of the world. One way the catastrophe is nothing but the end of a chain of coincidences. The other way this night reveals the logical consequents of this peoples lives because they are in a certain constellation cut off the rest of the world. It has something of a Dostoevsky tale.\"\n        ],\n        \"semantic_type\": \"\",\n        \"description\": \"\"\n      }\n    },\n    {\n      \"column\": \"label\",\n      \"properties\": {\n        \"dtype\": \"number\",\n        \"std\": 0,\n        \"min\": 0,\n        \"max\": 1,\n        \"num_unique_values\": 2,\n        \"samples\": [\n          1,\n          0\n        ],\n        \"semantic_type\": \"\",\n        \"description\": \"\"\n      }\n    }\n  ]\n}"
            }
          },
          "metadata": {},
          "execution_count": 11
        }
      ],
      "source": [
        "data.sample(10)"
      ]
    },
    {
      "cell_type": "code",
      "execution_count": 12,
      "id": "b5a090ff",
      "metadata": {
        "colab": {
          "base_uri": "https://localhost:8080/"
        },
        "id": "b5a090ff",
        "outputId": "eb776f16-3348-444b-f3a0-ff33f4f9d8ca"
      },
      "outputs": [
        {
          "output_type": "stream",
          "name": "stdout",
          "text": [
            "<class 'pandas.core.frame.DataFrame'>\n",
            "RangeIndex: 5000 entries, 0 to 4999\n",
            "Data columns (total 2 columns):\n",
            " #   Column  Non-Null Count  Dtype \n",
            "---  ------  --------------  ----- \n",
            " 0   text    5000 non-null   object\n",
            " 1   label   5000 non-null   int64 \n",
            "dtypes: int64(1), object(1)\n",
            "memory usage: 78.2+ KB\n"
          ]
        }
      ],
      "source": [
        "data.info()"
      ]
    },
    {
      "cell_type": "code",
      "execution_count": 13,
      "id": "080b46c7",
      "metadata": {
        "colab": {
          "base_uri": "https://localhost:8080/"
        },
        "id": "080b46c7",
        "outputId": "4891dcc1-d0c7-4e84-9bd8-1852ac55220c"
      },
      "outputs": [
        {
          "output_type": "execute_result",
          "data": {
            "text/plain": [
              "5"
            ]
          },
          "metadata": {},
          "execution_count": 13
        }
      ],
      "source": [
        "data.duplicated().sum()"
      ]
    },
    {
      "cell_type": "code",
      "execution_count": 14,
      "id": "c6b5fef9",
      "metadata": {
        "id": "c6b5fef9"
      },
      "outputs": [],
      "source": [
        "# duplicated_values = data[data['review'].duplicated()]['review']\n",
        "# duplicated_values"
      ]
    },
    {
      "cell_type": "code",
      "execution_count": 15,
      "id": "34cd181e",
      "metadata": {
        "id": "34cd181e"
      },
      "outputs": [],
      "source": [
        "data = data.drop_duplicates(subset=['text']).reset_index(drop=True)"
      ]
    },
    {
      "cell_type": "code",
      "execution_count": 16,
      "id": "5f7dc80f",
      "metadata": {
        "colab": {
          "base_uri": "https://localhost:8080/"
        },
        "id": "5f7dc80f",
        "outputId": "8d46874b-c47d-44fd-9488-301d0fe74564"
      },
      "outputs": [
        {
          "output_type": "execute_result",
          "data": {
            "text/plain": [
              "1    2502\n",
              "0    2493\n",
              "Name: label, dtype: int64"
            ]
          },
          "metadata": {},
          "execution_count": 16
        }
      ],
      "source": [
        "data['label'].value_counts()"
      ]
    },
    {
      "cell_type": "code",
      "execution_count": 17,
      "id": "4a4be001",
      "metadata": {
        "id": "4a4be001"
      },
      "outputs": [],
      "source": [
        "import matplotlib.pyplot as plt"
      ]
    },
    {
      "cell_type": "markdown",
      "id": "bf629611",
      "metadata": {
        "id": "bf629611"
      },
      "source": [
        "<br><br><span style='font-size:50px'>Data Preprocessing</span>"
      ]
    },
    {
      "cell_type": "code",
      "execution_count": 18,
      "id": "46e74915",
      "metadata": {
        "id": "46e74915"
      },
      "outputs": [],
      "source": [
        "import re"
      ]
    },
    {
      "cell_type": "markdown",
      "id": "bf53228c",
      "metadata": {
        "id": "bf53228c"
      },
      "source": [
        "<br><br><span style='font-size:30px'>Removing HTML Tags</span>"
      ]
    },
    {
      "cell_type": "code",
      "execution_count": 19,
      "id": "6f8f819c",
      "metadata": {
        "id": "6f8f819c"
      },
      "outputs": [],
      "source": [
        "def removeHTML(text):\n",
        "    text = re.sub(r'<[^>]*>', '', text)\n",
        "    return(text)"
      ]
    },
    {
      "cell_type": "markdown",
      "id": "f931c079",
      "metadata": {
        "id": "f931c079"
      },
      "source": [
        "<br><br><span style='font-size:30px'>Removing Stop Words</span>"
      ]
    },
    {
      "cell_type": "code",
      "execution_count": 20,
      "id": "a4d1846c",
      "metadata": {
        "colab": {
          "base_uri": "https://localhost:8080/"
        },
        "id": "a4d1846c",
        "outputId": "073f81cd-ae81-4d5e-ddec-40dc787716a6"
      },
      "outputs": [
        {
          "output_type": "stream",
          "name": "stderr",
          "text": [
            "[nltk_data] Downloading package stopwords to /root/nltk_data...\n",
            "[nltk_data]   Unzipping corpora/stopwords.zip.\n"
          ]
        }
      ],
      "source": [
        "import nltk\n",
        "nltk.download('stopwords')\n",
        "from nltk.corpus import stopwords\n",
        "stop_words = stopwords.words('english')"
      ]
    },
    {
      "cell_type": "code",
      "execution_count": 21,
      "id": "ce2fe041",
      "metadata": {
        "id": "ce2fe041"
      },
      "outputs": [],
      "source": [
        "def removeStopWords(text):\n",
        "    words = text.lower().split()\n",
        "    filtered_words = [word for word in words if word not in stop_words]\n",
        "    text = ' '.join(filtered_words)\n",
        "    return(text)"
      ]
    },
    {
      "cell_type": "markdown",
      "id": "616ed49a",
      "metadata": {
        "id": "616ed49a"
      },
      "source": [
        "<br><br><span style='font-size:30px'>Text Lemmatizing</span>"
      ]
    },
    {
      "cell_type": "code",
      "execution_count": 22,
      "id": "86ecb81c",
      "metadata": {
        "colab": {
          "base_uri": "https://localhost:8080/"
        },
        "id": "86ecb81c",
        "outputId": "9a30e5f1-d0ca-4a54-b27a-0787fa9e3e29"
      },
      "outputs": [
        {
          "output_type": "stream",
          "name": "stderr",
          "text": [
            "[nltk_data] Downloading package wordnet to /root/nltk_data...\n"
          ]
        }
      ],
      "source": [
        "import nltk\n",
        "from nltk.stem import WordNetLemmatizer\n",
        "nltk.download('wordnet')\n",
        "lemmatizer = WordNetLemmatizer()"
      ]
    },
    {
      "cell_type": "code",
      "execution_count": 23,
      "id": "d7428927",
      "metadata": {
        "id": "d7428927"
      },
      "outputs": [],
      "source": [
        "def Lemmatizing(text):\n",
        "    text = lemmatizer.lemmatize(text)\n",
        "    return(text)"
      ]
    },
    {
      "cell_type": "markdown",
      "id": "ed77cadd",
      "metadata": {
        "id": "ed77cadd"
      },
      "source": [
        "<br><br><span style='font-size:30px'>Removing Noise</span>"
      ]
    },
    {
      "cell_type": "code",
      "execution_count": 24,
      "id": "8725ef49",
      "metadata": {
        "id": "8725ef49"
      },
      "outputs": [],
      "source": [
        "def removeNoise(text):\n",
        "    text = re.sub(r'[^a-zA-Z\\s]+', '', text) # Only keep English letters\n",
        "    text = re.sub(r'(\\w)\\1{2,}', r'\\1', text)   #Normalize Repeated Letters\n",
        "    text = re.sub(r'\\s{2,}', ' ', text).strip() # Removing extra spaces\n",
        "    return(text)"
      ]
    },
    {
      "cell_type": "markdown",
      "id": "3b7e13c4",
      "metadata": {
        "id": "3b7e13c4"
      },
      "source": [
        "<br><br><br><br><span style='font-size:50px'>Adding New Column for the Cleaned Text</span>"
      ]
    },
    {
      "cell_type": "code",
      "execution_count": 25,
      "id": "658a8e6b",
      "metadata": {
        "id": "658a8e6b"
      },
      "outputs": [],
      "source": [
        "CleanedText = []"
      ]
    },
    {
      "cell_type": "code",
      "execution_count": 26,
      "id": "a113f957",
      "metadata": {
        "id": "a113f957"
      },
      "outputs": [],
      "source": [
        "for i in range(len(data)):\n",
        "    text = data.text[i]\n",
        "    text = removeHTML(text)\n",
        "    text = removeStopWords(text)\n",
        "    text = Lemmatizing(text)\n",
        "    text = removeNoise(text)\n",
        "    CleanedText.append(text)"
      ]
    },
    {
      "cell_type": "code",
      "execution_count": 27,
      "id": "f629f2e1",
      "metadata": {
        "scrolled": true,
        "id": "f629f2e1"
      },
      "outputs": [],
      "source": [
        "data['CleanedText'] = CleanedText"
      ]
    },
    {
      "cell_type": "code",
      "execution_count": 28,
      "id": "6271df73",
      "metadata": {
        "id": "6271df73"
      },
      "outputs": [],
      "source": [
        "#data = data.drop(['CleanedText'],axis=1)"
      ]
    },
    {
      "cell_type": "code",
      "execution_count": 29,
      "id": "f5800307",
      "metadata": {
        "colab": {
          "base_uri": "https://localhost:8080/",
          "height": 206
        },
        "id": "f5800307",
        "outputId": "c806cfd9-59f3-430d-a697-f848a651559a"
      },
      "outputs": [
        {
          "output_type": "execute_result",
          "data": {
            "text/plain": [
              "                                                text  label  \\\n",
              "0  I always wrote this series off as being a comp...      0   \n",
              "1  1st watched 12/7/2002 - 3 out of 10(Dir-Steve ...      0   \n",
              "2  This movie was so poorly written and directed ...      0   \n",
              "3  The most interesting thing about Miryang (Secr...      1   \n",
              "4  when i first read about \"berlin am meer\" i did...      0   \n",
              "\n",
              "                                         CleanedText  \n",
              "0  always wrote series complete stinkfest jim bel...  \n",
              "1  st watched dirsteve purcell typical mary kate ...  \n",
              "2  movie poorly written directed fell asleep minu...  \n",
              "3  interesting thing miryang secret sunshine acto...  \n",
              "4  first read berlin meer expect much thought rig...  "
            ],
            "text/html": [
              "\n",
              "  <div id=\"df-158011e0-efee-448e-8079-6ac98fe327e7\" class=\"colab-df-container\">\n",
              "    <div>\n",
              "<style scoped>\n",
              "    .dataframe tbody tr th:only-of-type {\n",
              "        vertical-align: middle;\n",
              "    }\n",
              "\n",
              "    .dataframe tbody tr th {\n",
              "        vertical-align: top;\n",
              "    }\n",
              "\n",
              "    .dataframe thead th {\n",
              "        text-align: right;\n",
              "    }\n",
              "</style>\n",
              "<table border=\"1\" class=\"dataframe\">\n",
              "  <thead>\n",
              "    <tr style=\"text-align: right;\">\n",
              "      <th></th>\n",
              "      <th>text</th>\n",
              "      <th>label</th>\n",
              "      <th>CleanedText</th>\n",
              "    </tr>\n",
              "  </thead>\n",
              "  <tbody>\n",
              "    <tr>\n",
              "      <th>0</th>\n",
              "      <td>I always wrote this series off as being a comp...</td>\n",
              "      <td>0</td>\n",
              "      <td>always wrote series complete stinkfest jim bel...</td>\n",
              "    </tr>\n",
              "    <tr>\n",
              "      <th>1</th>\n",
              "      <td>1st watched 12/7/2002 - 3 out of 10(Dir-Steve ...</td>\n",
              "      <td>0</td>\n",
              "      <td>st watched dirsteve purcell typical mary kate ...</td>\n",
              "    </tr>\n",
              "    <tr>\n",
              "      <th>2</th>\n",
              "      <td>This movie was so poorly written and directed ...</td>\n",
              "      <td>0</td>\n",
              "      <td>movie poorly written directed fell asleep minu...</td>\n",
              "    </tr>\n",
              "    <tr>\n",
              "      <th>3</th>\n",
              "      <td>The most interesting thing about Miryang (Secr...</td>\n",
              "      <td>1</td>\n",
              "      <td>interesting thing miryang secret sunshine acto...</td>\n",
              "    </tr>\n",
              "    <tr>\n",
              "      <th>4</th>\n",
              "      <td>when i first read about \"berlin am meer\" i did...</td>\n",
              "      <td>0</td>\n",
              "      <td>first read berlin meer expect much thought rig...</td>\n",
              "    </tr>\n",
              "  </tbody>\n",
              "</table>\n",
              "</div>\n",
              "    <div class=\"colab-df-buttons\">\n",
              "\n",
              "  <div class=\"colab-df-container\">\n",
              "    <button class=\"colab-df-convert\" onclick=\"convertToInteractive('df-158011e0-efee-448e-8079-6ac98fe327e7')\"\n",
              "            title=\"Convert this dataframe to an interactive table.\"\n",
              "            style=\"display:none;\">\n",
              "\n",
              "  <svg xmlns=\"http://www.w3.org/2000/svg\" height=\"24px\" viewBox=\"0 -960 960 960\">\n",
              "    <path d=\"M120-120v-720h720v720H120Zm60-500h600v-160H180v160Zm220 220h160v-160H400v160Zm0 220h160v-160H400v160ZM180-400h160v-160H180v160Zm440 0h160v-160H620v160ZM180-180h160v-160H180v160Zm440 0h160v-160H620v160Z\"/>\n",
              "  </svg>\n",
              "    </button>\n",
              "\n",
              "  <style>\n",
              "    .colab-df-container {\n",
              "      display:flex;\n",
              "      gap: 12px;\n",
              "    }\n",
              "\n",
              "    .colab-df-convert {\n",
              "      background-color: #E8F0FE;\n",
              "      border: none;\n",
              "      border-radius: 50%;\n",
              "      cursor: pointer;\n",
              "      display: none;\n",
              "      fill: #1967D2;\n",
              "      height: 32px;\n",
              "      padding: 0 0 0 0;\n",
              "      width: 32px;\n",
              "    }\n",
              "\n",
              "    .colab-df-convert:hover {\n",
              "      background-color: #E2EBFA;\n",
              "      box-shadow: 0px 1px 2px rgba(60, 64, 67, 0.3), 0px 1px 3px 1px rgba(60, 64, 67, 0.15);\n",
              "      fill: #174EA6;\n",
              "    }\n",
              "\n",
              "    .colab-df-buttons div {\n",
              "      margin-bottom: 4px;\n",
              "    }\n",
              "\n",
              "    [theme=dark] .colab-df-convert {\n",
              "      background-color: #3B4455;\n",
              "      fill: #D2E3FC;\n",
              "    }\n",
              "\n",
              "    [theme=dark] .colab-df-convert:hover {\n",
              "      background-color: #434B5C;\n",
              "      box-shadow: 0px 1px 3px 1px rgba(0, 0, 0, 0.15);\n",
              "      filter: drop-shadow(0px 1px 2px rgba(0, 0, 0, 0.3));\n",
              "      fill: #FFFFFF;\n",
              "    }\n",
              "  </style>\n",
              "\n",
              "    <script>\n",
              "      const buttonEl =\n",
              "        document.querySelector('#df-158011e0-efee-448e-8079-6ac98fe327e7 button.colab-df-convert');\n",
              "      buttonEl.style.display =\n",
              "        google.colab.kernel.accessAllowed ? 'block' : 'none';\n",
              "\n",
              "      async function convertToInteractive(key) {\n",
              "        const element = document.querySelector('#df-158011e0-efee-448e-8079-6ac98fe327e7');\n",
              "        const dataTable =\n",
              "          await google.colab.kernel.invokeFunction('convertToInteractive',\n",
              "                                                    [key], {});\n",
              "        if (!dataTable) return;\n",
              "\n",
              "        const docLinkHtml = 'Like what you see? Visit the ' +\n",
              "          '<a target=\"_blank\" href=https://colab.research.google.com/notebooks/data_table.ipynb>data table notebook</a>'\n",
              "          + ' to learn more about interactive tables.';\n",
              "        element.innerHTML = '';\n",
              "        dataTable['output_type'] = 'display_data';\n",
              "        await google.colab.output.renderOutput(dataTable, element);\n",
              "        const docLink = document.createElement('div');\n",
              "        docLink.innerHTML = docLinkHtml;\n",
              "        element.appendChild(docLink);\n",
              "      }\n",
              "    </script>\n",
              "  </div>\n",
              "\n",
              "\n",
              "<div id=\"df-8227ff97-52f8-49a7-85ef-448b9f6f1289\">\n",
              "  <button class=\"colab-df-quickchart\" onclick=\"quickchart('df-8227ff97-52f8-49a7-85ef-448b9f6f1289')\"\n",
              "            title=\"Suggest charts\"\n",
              "            style=\"display:none;\">\n",
              "\n",
              "<svg xmlns=\"http://www.w3.org/2000/svg\" height=\"24px\"viewBox=\"0 0 24 24\"\n",
              "     width=\"24px\">\n",
              "    <g>\n",
              "        <path d=\"M19 3H5c-1.1 0-2 .9-2 2v14c0 1.1.9 2 2 2h14c1.1 0 2-.9 2-2V5c0-1.1-.9-2-2-2zM9 17H7v-7h2v7zm4 0h-2V7h2v10zm4 0h-2v-4h2v4z\"/>\n",
              "    </g>\n",
              "</svg>\n",
              "  </button>\n",
              "\n",
              "<style>\n",
              "  .colab-df-quickchart {\n",
              "      --bg-color: #E8F0FE;\n",
              "      --fill-color: #1967D2;\n",
              "      --hover-bg-color: #E2EBFA;\n",
              "      --hover-fill-color: #174EA6;\n",
              "      --disabled-fill-color: #AAA;\n",
              "      --disabled-bg-color: #DDD;\n",
              "  }\n",
              "\n",
              "  [theme=dark] .colab-df-quickchart {\n",
              "      --bg-color: #3B4455;\n",
              "      --fill-color: #D2E3FC;\n",
              "      --hover-bg-color: #434B5C;\n",
              "      --hover-fill-color: #FFFFFF;\n",
              "      --disabled-bg-color: #3B4455;\n",
              "      --disabled-fill-color: #666;\n",
              "  }\n",
              "\n",
              "  .colab-df-quickchart {\n",
              "    background-color: var(--bg-color);\n",
              "    border: none;\n",
              "    border-radius: 50%;\n",
              "    cursor: pointer;\n",
              "    display: none;\n",
              "    fill: var(--fill-color);\n",
              "    height: 32px;\n",
              "    padding: 0;\n",
              "    width: 32px;\n",
              "  }\n",
              "\n",
              "  .colab-df-quickchart:hover {\n",
              "    background-color: var(--hover-bg-color);\n",
              "    box-shadow: 0 1px 2px rgba(60, 64, 67, 0.3), 0 1px 3px 1px rgba(60, 64, 67, 0.15);\n",
              "    fill: var(--button-hover-fill-color);\n",
              "  }\n",
              "\n",
              "  .colab-df-quickchart-complete:disabled,\n",
              "  .colab-df-quickchart-complete:disabled:hover {\n",
              "    background-color: var(--disabled-bg-color);\n",
              "    fill: var(--disabled-fill-color);\n",
              "    box-shadow: none;\n",
              "  }\n",
              "\n",
              "  .colab-df-spinner {\n",
              "    border: 2px solid var(--fill-color);\n",
              "    border-color: transparent;\n",
              "    border-bottom-color: var(--fill-color);\n",
              "    animation:\n",
              "      spin 1s steps(1) infinite;\n",
              "  }\n",
              "\n",
              "  @keyframes spin {\n",
              "    0% {\n",
              "      border-color: transparent;\n",
              "      border-bottom-color: var(--fill-color);\n",
              "      border-left-color: var(--fill-color);\n",
              "    }\n",
              "    20% {\n",
              "      border-color: transparent;\n",
              "      border-left-color: var(--fill-color);\n",
              "      border-top-color: var(--fill-color);\n",
              "    }\n",
              "    30% {\n",
              "      border-color: transparent;\n",
              "      border-left-color: var(--fill-color);\n",
              "      border-top-color: var(--fill-color);\n",
              "      border-right-color: var(--fill-color);\n",
              "    }\n",
              "    40% {\n",
              "      border-color: transparent;\n",
              "      border-right-color: var(--fill-color);\n",
              "      border-top-color: var(--fill-color);\n",
              "    }\n",
              "    60% {\n",
              "      border-color: transparent;\n",
              "      border-right-color: var(--fill-color);\n",
              "    }\n",
              "    80% {\n",
              "      border-color: transparent;\n",
              "      border-right-color: var(--fill-color);\n",
              "      border-bottom-color: var(--fill-color);\n",
              "    }\n",
              "    90% {\n",
              "      border-color: transparent;\n",
              "      border-bottom-color: var(--fill-color);\n",
              "    }\n",
              "  }\n",
              "</style>\n",
              "\n",
              "  <script>\n",
              "    async function quickchart(key) {\n",
              "      const quickchartButtonEl =\n",
              "        document.querySelector('#' + key + ' button');\n",
              "      quickchartButtonEl.disabled = true;  // To prevent multiple clicks.\n",
              "      quickchartButtonEl.classList.add('colab-df-spinner');\n",
              "      try {\n",
              "        const charts = await google.colab.kernel.invokeFunction(\n",
              "            'suggestCharts', [key], {});\n",
              "      } catch (error) {\n",
              "        console.error('Error during call to suggestCharts:', error);\n",
              "      }\n",
              "      quickchartButtonEl.classList.remove('colab-df-spinner');\n",
              "      quickchartButtonEl.classList.add('colab-df-quickchart-complete');\n",
              "    }\n",
              "    (() => {\n",
              "      let quickchartButtonEl =\n",
              "        document.querySelector('#df-8227ff97-52f8-49a7-85ef-448b9f6f1289 button');\n",
              "      quickchartButtonEl.style.display =\n",
              "        google.colab.kernel.accessAllowed ? 'block' : 'none';\n",
              "    })();\n",
              "  </script>\n",
              "</div>\n",
              "\n",
              "    </div>\n",
              "  </div>\n"
            ],
            "application/vnd.google.colaboratory.intrinsic+json": {
              "type": "dataframe",
              "variable_name": "data",
              "summary": "{\n  \"name\": \"data\",\n  \"rows\": 4995,\n  \"fields\": [\n    {\n      \"column\": \"text\",\n      \"properties\": {\n        \"dtype\": \"string\",\n        \"num_unique_values\": 4995,\n        \"samples\": [\n          \"I'm the sort of person who went down to the local library and read books on Babbage's difference engine whilst my schoolmates were playing football etc.. So, if there is any such thing as a target audience for this film, then I guess I'd probably be included in that.<br /><br />Maybe I just need to watch it again. A previous reviewer mentioned not to watch this film whilst being tired. Maybe that was my mistake.<br /><br />I tried my best to enjoy this film, and there are aspects of it that I do like, but overall I found it amateurish and quite plodding.<br /><br />Being somewhat of a self confessed computer nerd, I just can't help but pick up on the exact time frame when the movie was actually made, and how the employed graphics reflect that time (i.e. 1997). Having played games of the era c.f. \\\"Mind Grind\\\" to cite one example, this film cannot escape that 16-bit colour low res multimedia explosion of that time. Now thankfully this has somewhat lessened in more recent years in the gaming world at least, in favour of actual game play.<br /><br />Having to resort to watching this movie via a German FTA satellite channel (as I don't think it's ever been aired on UK FTA TV, well not recently anyway), I was mildly amused to see the end credits note Gottdog (God dog) had 4 people working on it's design. Maybe it's mean spirited of me to be amused by this, given that ten years have elapsed since the movie was made, nevertheless the end result makes movie graphics from the eighties look good by comparison.<br /><br />But, as for the main story, I agree that the format isn't the best idea. Like others I agree that Ada deserves a film without the sci-fi angle, and a more straightforward biographical approach would perhaps be better suited to covering the life story of this remarkable lady.<br /><br />There are fundamental mistakes that undermine my enjoyment of this movie. First of all the underlying idea that somehow lost real-world information from the past can be accurately reconstructed through some sort of extrapolation via software based intelligent agents, seems somehow ludicrous.<br /><br />Also, the theme running through the movie that a computing device can indeed predict the mechanics of all things through the course of time (e.g. the winds) is now known not to be the case.<br /><br />OK, so the Victorians may have held this view, but the 20th century works of G\\u00f6del proving that no mathematical system can be complete, Turing's works on the limits of computability, not to mention chaos theory and quantum mechanics, have all completely undermined these ideas, which seem central to how the modern day researcher's software is supposed to work.<br /><br />Finally, the clicking of the mouse in the air to mean \\\"programming\\\" is also just plain wrong, as previously mentioned.<br /><br />This film maybe could have been OK, but at least some technical and scientific consultation would have given the film some much needed credit in the believability stakes.<br /><br />I won't forget the film though, as like \\\"Pi\\\", it is clearly a unique work, but with too many fatal mistakes for me to truly enjoy it, 3/10 from me.\",\n          \"I have two good things to say about this film: the scenery is beautiful and Peter Falk gives a good performance (considering what he had to work with in terms of dialog and direction). However, that said, I found this film extremely tiresome. Watching paint dry would have been more entertaining. It seemed much longer than 97 minutes. Beginning with opening sequence, where everyone is talking over each other and Paul Reiser is repeating everything that's said to him on the phone, the movie is annoying. The film is filled with clich\\u00e9s and shtick, not to mention endless incidents of audible flatulence by Falk. Also, the director seems to have had difficulty deciding whether to aim for laughs or tears. There are some sequences that are touching, but they're all played for laughs. If schmaltzy, sentimental, and \\\"cute\\\" appeal to you, you'll love it. But if you were hoping for something with more substance, see a different movie.\",\n          \"Strained and humorless (especially in light of its rather dubious psychology), but well-paced and comfortably lurid, this genteel body count movie highlights the unusually hypnotic presence of Angharad Rees as a young woman periodically possessed by Jack the Ripper, thus allowing for some nasty gore effects amidst the Edwardian propriety. It's all pretty standard stuff for Hammer, but is handled with a good deal of visual elan, even if the central relationship, between psychoanalyst Porter and Rees, drives the narrative without ever being satisfactorily explained.\"\n        ],\n        \"semantic_type\": \"\",\n        \"description\": \"\"\n      }\n    },\n    {\n      \"column\": \"label\",\n      \"properties\": {\n        \"dtype\": \"number\",\n        \"std\": 0,\n        \"min\": 0,\n        \"max\": 1,\n        \"num_unique_values\": 2,\n        \"samples\": [\n          1,\n          0\n        ],\n        \"semantic_type\": \"\",\n        \"description\": \"\"\n      }\n    },\n    {\n      \"column\": \"CleanedText\",\n      \"properties\": {\n        \"dtype\": \"string\",\n        \"num_unique_values\": 4995,\n        \"samples\": [\n          \"im sort person went local library read books babbages difference engine whilst schoolmates playing football etc so thing target audience film guess id probably included thatmaybe need watch again previous reviewer mentioned watch film whilst tired maybe mistakei tried best enjoy film aspects like overall found amateurish quite ploddingbeing somewhat self confessed computer nerd cant help pick exact time frame movie actually made employed graphics reflect time ie played games era cf mind grind cite one example film cannot escape bit colour low res multimedia explosion time thankfully somewhat lessened recent years gaming world least favour actual game playhaving resort watching movie via german fta satellite channel as think ever aired uk fta tv well recently anyway mildly amused see end credits note gottdog god dog people working design maybe mean spirited amused this given ten years elapsed since movie made nevertheless end result makes movie graphics eighties look good comparisonbut main story agree format best idea like others agree ada deserves film without scifi angle straightforward biographical approach would perhaps better suited covering life story remarkable ladythere fundamental mistakes undermine enjoyment movie first underlying idea somehow lost realworld information past accurately reconstructed sort extrapolation via software based intelligent agents seems somehow ludicrousalso theme running movie computing device indeed predict mechanics things course time eg winds known caseok victorians may held view th century works gdel proving mathematical system complete turings works limits computability mention chaos theory quantum mechanics completely undermined ideas seem central modern day researchers software supposed workfinally clicking mouse air mean programming also plain wrong previously mentionedthis film maybe could ok least technical scientific consultation would given film much needed credit believability stakesi forget film though like pi clearly unique work many fatal mistakes truly enjoy it me\",\n          \"two good things say film scenery beautiful peter falk gives good performance considering work terms dialog direction however said found film extremely tiresome watching paint dry would entertaining seemed much longer minutes beginning opening sequence everyone talking paul reiser repeating everything thats said phone movie annoying film filled clichs shtick mention endless incidents audible flatulence falk also director seems difficulty deciding whether aim laughs tears sequences touching theyre played laughs schmaltzy sentimental cute appeal you love it hoping something substance see different movie\"\n        ],\n        \"semantic_type\": \"\",\n        \"description\": \"\"\n      }\n    }\n  ]\n}"
            }
          },
          "metadata": {},
          "execution_count": 29
        }
      ],
      "source": [
        "data.head()"
      ]
    },
    {
      "cell_type": "code",
      "execution_count": 30,
      "id": "c28a44bc",
      "metadata": {
        "colab": {
          "base_uri": "https://localhost:8080/",
          "height": 676
        },
        "id": "c28a44bc",
        "outputId": "7c2f9f69-badf-4753-90e3-0eb258b653a7"
      },
      "outputs": [
        {
          "output_type": "execute_result",
          "data": {
            "text/plain": [
              "                                                   text  label  \\\n",
              "2831  Sergio Martino has impressed me recently with ...      1   \n",
              "3308  *****Spoiler or two, not that is matters******...      0   \n",
              "1257  I'm not really sure how to even begin to descr...      0   \n",
              "1729  In today's world of digital fabrication, there...      1   \n",
              "789   You don't see the meaning of the title till mu...      1   \n",
              "674   In my never-ending quest to see as many qualit...      1   \n",
              "3506  I love Memoirs of a Geisha so I read the book ...      0   \n",
              "777   It was \"The Night HE Came Home,\" warned the po...      1   \n",
              "176   .......Playing Kaddiddlehopper, Col San Fernan...      1   \n",
              "3699  Boring, rank nefarious plot, some of the worst...      0   \n",
              "1094  This train-wreck begins with Brujo and Alma cr...      0   \n",
              "2027  'Ned Kelly' is a wonderfully made Australian f...      1   \n",
              "46    This film makes you really appreciate the inve...      0   \n",
              "1646  <br /><br />How this film ever got a 6 star av...      0   \n",
              "1668  I honestly expected more from this movie. That...      0   \n",
              "4017  Two Soldiers is an excellent example of fine f...      1   \n",
              "3074  I was forced to read this sappy \"love story\" b...      0   \n",
              "1721  This film really used its locations well with ...      1   \n",
              "156   This was an atrocious waste of my time. No plo...      0   \n",
              "2536  This was a excellent movie. I deal with a chil...      1   \n",
              "\n",
              "                                            CleanedText  \n",
              "2831  sergio martino impressed recently giallo class...  \n",
              "3308  spoiler two matterstwo things stand movie firs...  \n",
              "1257  im really sure even begin describe bad movie i...  \n",
              "1729  todays world digital fabrication computer repl...  \n",
              "789   see meaning title till much later get point fi...  \n",
              "674   neverending quest see many quality movies poss...  \n",
              "3506  love memoirs geisha read book twice one best b...  \n",
              "777   the night came home warned posters john carpen...  \n",
              "176   playing kaddiddlehopper col san fernando etc m...  \n",
              "3699  boring rank nefarious plot worst direction ive...  \n",
              "1094  trainwreck begins brujo alma crossing mexican ...  \n",
              "2027  ned kelly wonderfully made australian film hon...  \n",
              "46    film makes really appreciate invention fast fo...  \n",
              "1646  film ever got star average beyond me script ba...  \n",
              "1668  honestly expected movie may problem one time c...  \n",
              "4017  two soldiers excellent example fine filmmaking...  \n",
              "3074  forced read sappy love story german year old p...  \n",
              "1721  film really used locations well amazing shots ...  \n",
              "156   atrocious waste time plot acting far par used ...  \n",
              "2536  excellent movie deal child raising fae watchin...  "
            ],
            "text/html": [
              "\n",
              "  <div id=\"df-09720ba3-538c-4261-a1a7-28de61d6b87e\" class=\"colab-df-container\">\n",
              "    <div>\n",
              "<style scoped>\n",
              "    .dataframe tbody tr th:only-of-type {\n",
              "        vertical-align: middle;\n",
              "    }\n",
              "\n",
              "    .dataframe tbody tr th {\n",
              "        vertical-align: top;\n",
              "    }\n",
              "\n",
              "    .dataframe thead th {\n",
              "        text-align: right;\n",
              "    }\n",
              "</style>\n",
              "<table border=\"1\" class=\"dataframe\">\n",
              "  <thead>\n",
              "    <tr style=\"text-align: right;\">\n",
              "      <th></th>\n",
              "      <th>text</th>\n",
              "      <th>label</th>\n",
              "      <th>CleanedText</th>\n",
              "    </tr>\n",
              "  </thead>\n",
              "  <tbody>\n",
              "    <tr>\n",
              "      <th>2831</th>\n",
              "      <td>Sergio Martino has impressed me recently with ...</td>\n",
              "      <td>1</td>\n",
              "      <td>sergio martino impressed recently giallo class...</td>\n",
              "    </tr>\n",
              "    <tr>\n",
              "      <th>3308</th>\n",
              "      <td>*****Spoiler or two, not that is matters******...</td>\n",
              "      <td>0</td>\n",
              "      <td>spoiler two matterstwo things stand movie firs...</td>\n",
              "    </tr>\n",
              "    <tr>\n",
              "      <th>1257</th>\n",
              "      <td>I'm not really sure how to even begin to descr...</td>\n",
              "      <td>0</td>\n",
              "      <td>im really sure even begin describe bad movie i...</td>\n",
              "    </tr>\n",
              "    <tr>\n",
              "      <th>1729</th>\n",
              "      <td>In today's world of digital fabrication, there...</td>\n",
              "      <td>1</td>\n",
              "      <td>todays world digital fabrication computer repl...</td>\n",
              "    </tr>\n",
              "    <tr>\n",
              "      <th>789</th>\n",
              "      <td>You don't see the meaning of the title till mu...</td>\n",
              "      <td>1</td>\n",
              "      <td>see meaning title till much later get point fi...</td>\n",
              "    </tr>\n",
              "    <tr>\n",
              "      <th>674</th>\n",
              "      <td>In my never-ending quest to see as many qualit...</td>\n",
              "      <td>1</td>\n",
              "      <td>neverending quest see many quality movies poss...</td>\n",
              "    </tr>\n",
              "    <tr>\n",
              "      <th>3506</th>\n",
              "      <td>I love Memoirs of a Geisha so I read the book ...</td>\n",
              "      <td>0</td>\n",
              "      <td>love memoirs geisha read book twice one best b...</td>\n",
              "    </tr>\n",
              "    <tr>\n",
              "      <th>777</th>\n",
              "      <td>It was \"The Night HE Came Home,\" warned the po...</td>\n",
              "      <td>1</td>\n",
              "      <td>the night came home warned posters john carpen...</td>\n",
              "    </tr>\n",
              "    <tr>\n",
              "      <th>176</th>\n",
              "      <td>.......Playing Kaddiddlehopper, Col San Fernan...</td>\n",
              "      <td>1</td>\n",
              "      <td>playing kaddiddlehopper col san fernando etc m...</td>\n",
              "    </tr>\n",
              "    <tr>\n",
              "      <th>3699</th>\n",
              "      <td>Boring, rank nefarious plot, some of the worst...</td>\n",
              "      <td>0</td>\n",
              "      <td>boring rank nefarious plot worst direction ive...</td>\n",
              "    </tr>\n",
              "    <tr>\n",
              "      <th>1094</th>\n",
              "      <td>This train-wreck begins with Brujo and Alma cr...</td>\n",
              "      <td>0</td>\n",
              "      <td>trainwreck begins brujo alma crossing mexican ...</td>\n",
              "    </tr>\n",
              "    <tr>\n",
              "      <th>2027</th>\n",
              "      <td>'Ned Kelly' is a wonderfully made Australian f...</td>\n",
              "      <td>1</td>\n",
              "      <td>ned kelly wonderfully made australian film hon...</td>\n",
              "    </tr>\n",
              "    <tr>\n",
              "      <th>46</th>\n",
              "      <td>This film makes you really appreciate the inve...</td>\n",
              "      <td>0</td>\n",
              "      <td>film makes really appreciate invention fast fo...</td>\n",
              "    </tr>\n",
              "    <tr>\n",
              "      <th>1646</th>\n",
              "      <td>&lt;br /&gt;&lt;br /&gt;How this film ever got a 6 star av...</td>\n",
              "      <td>0</td>\n",
              "      <td>film ever got star average beyond me script ba...</td>\n",
              "    </tr>\n",
              "    <tr>\n",
              "      <th>1668</th>\n",
              "      <td>I honestly expected more from this movie. That...</td>\n",
              "      <td>0</td>\n",
              "      <td>honestly expected movie may problem one time c...</td>\n",
              "    </tr>\n",
              "    <tr>\n",
              "      <th>4017</th>\n",
              "      <td>Two Soldiers is an excellent example of fine f...</td>\n",
              "      <td>1</td>\n",
              "      <td>two soldiers excellent example fine filmmaking...</td>\n",
              "    </tr>\n",
              "    <tr>\n",
              "      <th>3074</th>\n",
              "      <td>I was forced to read this sappy \"love story\" b...</td>\n",
              "      <td>0</td>\n",
              "      <td>forced read sappy love story german year old p...</td>\n",
              "    </tr>\n",
              "    <tr>\n",
              "      <th>1721</th>\n",
              "      <td>This film really used its locations well with ...</td>\n",
              "      <td>1</td>\n",
              "      <td>film really used locations well amazing shots ...</td>\n",
              "    </tr>\n",
              "    <tr>\n",
              "      <th>156</th>\n",
              "      <td>This was an atrocious waste of my time. No plo...</td>\n",
              "      <td>0</td>\n",
              "      <td>atrocious waste time plot acting far par used ...</td>\n",
              "    </tr>\n",
              "    <tr>\n",
              "      <th>2536</th>\n",
              "      <td>This was a excellent movie. I deal with a chil...</td>\n",
              "      <td>1</td>\n",
              "      <td>excellent movie deal child raising fae watchin...</td>\n",
              "    </tr>\n",
              "  </tbody>\n",
              "</table>\n",
              "</div>\n",
              "    <div class=\"colab-df-buttons\">\n",
              "\n",
              "  <div class=\"colab-df-container\">\n",
              "    <button class=\"colab-df-convert\" onclick=\"convertToInteractive('df-09720ba3-538c-4261-a1a7-28de61d6b87e')\"\n",
              "            title=\"Convert this dataframe to an interactive table.\"\n",
              "            style=\"display:none;\">\n",
              "\n",
              "  <svg xmlns=\"http://www.w3.org/2000/svg\" height=\"24px\" viewBox=\"0 -960 960 960\">\n",
              "    <path d=\"M120-120v-720h720v720H120Zm60-500h600v-160H180v160Zm220 220h160v-160H400v160Zm0 220h160v-160H400v160ZM180-400h160v-160H180v160Zm440 0h160v-160H620v160ZM180-180h160v-160H180v160Zm440 0h160v-160H620v160Z\"/>\n",
              "  </svg>\n",
              "    </button>\n",
              "\n",
              "  <style>\n",
              "    .colab-df-container {\n",
              "      display:flex;\n",
              "      gap: 12px;\n",
              "    }\n",
              "\n",
              "    .colab-df-convert {\n",
              "      background-color: #E8F0FE;\n",
              "      border: none;\n",
              "      border-radius: 50%;\n",
              "      cursor: pointer;\n",
              "      display: none;\n",
              "      fill: #1967D2;\n",
              "      height: 32px;\n",
              "      padding: 0 0 0 0;\n",
              "      width: 32px;\n",
              "    }\n",
              "\n",
              "    .colab-df-convert:hover {\n",
              "      background-color: #E2EBFA;\n",
              "      box-shadow: 0px 1px 2px rgba(60, 64, 67, 0.3), 0px 1px 3px 1px rgba(60, 64, 67, 0.15);\n",
              "      fill: #174EA6;\n",
              "    }\n",
              "\n",
              "    .colab-df-buttons div {\n",
              "      margin-bottom: 4px;\n",
              "    }\n",
              "\n",
              "    [theme=dark] .colab-df-convert {\n",
              "      background-color: #3B4455;\n",
              "      fill: #D2E3FC;\n",
              "    }\n",
              "\n",
              "    [theme=dark] .colab-df-convert:hover {\n",
              "      background-color: #434B5C;\n",
              "      box-shadow: 0px 1px 3px 1px rgba(0, 0, 0, 0.15);\n",
              "      filter: drop-shadow(0px 1px 2px rgba(0, 0, 0, 0.3));\n",
              "      fill: #FFFFFF;\n",
              "    }\n",
              "  </style>\n",
              "\n",
              "    <script>\n",
              "      const buttonEl =\n",
              "        document.querySelector('#df-09720ba3-538c-4261-a1a7-28de61d6b87e button.colab-df-convert');\n",
              "      buttonEl.style.display =\n",
              "        google.colab.kernel.accessAllowed ? 'block' : 'none';\n",
              "\n",
              "      async function convertToInteractive(key) {\n",
              "        const element = document.querySelector('#df-09720ba3-538c-4261-a1a7-28de61d6b87e');\n",
              "        const dataTable =\n",
              "          await google.colab.kernel.invokeFunction('convertToInteractive',\n",
              "                                                    [key], {});\n",
              "        if (!dataTable) return;\n",
              "\n",
              "        const docLinkHtml = 'Like what you see? Visit the ' +\n",
              "          '<a target=\"_blank\" href=https://colab.research.google.com/notebooks/data_table.ipynb>data table notebook</a>'\n",
              "          + ' to learn more about interactive tables.';\n",
              "        element.innerHTML = '';\n",
              "        dataTable['output_type'] = 'display_data';\n",
              "        await google.colab.output.renderOutput(dataTable, element);\n",
              "        const docLink = document.createElement('div');\n",
              "        docLink.innerHTML = docLinkHtml;\n",
              "        element.appendChild(docLink);\n",
              "      }\n",
              "    </script>\n",
              "  </div>\n",
              "\n",
              "\n",
              "<div id=\"df-b5932781-9b8f-4955-a9f7-42ac048002bc\">\n",
              "  <button class=\"colab-df-quickchart\" onclick=\"quickchart('df-b5932781-9b8f-4955-a9f7-42ac048002bc')\"\n",
              "            title=\"Suggest charts\"\n",
              "            style=\"display:none;\">\n",
              "\n",
              "<svg xmlns=\"http://www.w3.org/2000/svg\" height=\"24px\"viewBox=\"0 0 24 24\"\n",
              "     width=\"24px\">\n",
              "    <g>\n",
              "        <path d=\"M19 3H5c-1.1 0-2 .9-2 2v14c0 1.1.9 2 2 2h14c1.1 0 2-.9 2-2V5c0-1.1-.9-2-2-2zM9 17H7v-7h2v7zm4 0h-2V7h2v10zm4 0h-2v-4h2v4z\"/>\n",
              "    </g>\n",
              "</svg>\n",
              "  </button>\n",
              "\n",
              "<style>\n",
              "  .colab-df-quickchart {\n",
              "      --bg-color: #E8F0FE;\n",
              "      --fill-color: #1967D2;\n",
              "      --hover-bg-color: #E2EBFA;\n",
              "      --hover-fill-color: #174EA6;\n",
              "      --disabled-fill-color: #AAA;\n",
              "      --disabled-bg-color: #DDD;\n",
              "  }\n",
              "\n",
              "  [theme=dark] .colab-df-quickchart {\n",
              "      --bg-color: #3B4455;\n",
              "      --fill-color: #D2E3FC;\n",
              "      --hover-bg-color: #434B5C;\n",
              "      --hover-fill-color: #FFFFFF;\n",
              "      --disabled-bg-color: #3B4455;\n",
              "      --disabled-fill-color: #666;\n",
              "  }\n",
              "\n",
              "  .colab-df-quickchart {\n",
              "    background-color: var(--bg-color);\n",
              "    border: none;\n",
              "    border-radius: 50%;\n",
              "    cursor: pointer;\n",
              "    display: none;\n",
              "    fill: var(--fill-color);\n",
              "    height: 32px;\n",
              "    padding: 0;\n",
              "    width: 32px;\n",
              "  }\n",
              "\n",
              "  .colab-df-quickchart:hover {\n",
              "    background-color: var(--hover-bg-color);\n",
              "    box-shadow: 0 1px 2px rgba(60, 64, 67, 0.3), 0 1px 3px 1px rgba(60, 64, 67, 0.15);\n",
              "    fill: var(--button-hover-fill-color);\n",
              "  }\n",
              "\n",
              "  .colab-df-quickchart-complete:disabled,\n",
              "  .colab-df-quickchart-complete:disabled:hover {\n",
              "    background-color: var(--disabled-bg-color);\n",
              "    fill: var(--disabled-fill-color);\n",
              "    box-shadow: none;\n",
              "  }\n",
              "\n",
              "  .colab-df-spinner {\n",
              "    border: 2px solid var(--fill-color);\n",
              "    border-color: transparent;\n",
              "    border-bottom-color: var(--fill-color);\n",
              "    animation:\n",
              "      spin 1s steps(1) infinite;\n",
              "  }\n",
              "\n",
              "  @keyframes spin {\n",
              "    0% {\n",
              "      border-color: transparent;\n",
              "      border-bottom-color: var(--fill-color);\n",
              "      border-left-color: var(--fill-color);\n",
              "    }\n",
              "    20% {\n",
              "      border-color: transparent;\n",
              "      border-left-color: var(--fill-color);\n",
              "      border-top-color: var(--fill-color);\n",
              "    }\n",
              "    30% {\n",
              "      border-color: transparent;\n",
              "      border-left-color: var(--fill-color);\n",
              "      border-top-color: var(--fill-color);\n",
              "      border-right-color: var(--fill-color);\n",
              "    }\n",
              "    40% {\n",
              "      border-color: transparent;\n",
              "      border-right-color: var(--fill-color);\n",
              "      border-top-color: var(--fill-color);\n",
              "    }\n",
              "    60% {\n",
              "      border-color: transparent;\n",
              "      border-right-color: var(--fill-color);\n",
              "    }\n",
              "    80% {\n",
              "      border-color: transparent;\n",
              "      border-right-color: var(--fill-color);\n",
              "      border-bottom-color: var(--fill-color);\n",
              "    }\n",
              "    90% {\n",
              "      border-color: transparent;\n",
              "      border-bottom-color: var(--fill-color);\n",
              "    }\n",
              "  }\n",
              "</style>\n",
              "\n",
              "  <script>\n",
              "    async function quickchart(key) {\n",
              "      const quickchartButtonEl =\n",
              "        document.querySelector('#' + key + ' button');\n",
              "      quickchartButtonEl.disabled = true;  // To prevent multiple clicks.\n",
              "      quickchartButtonEl.classList.add('colab-df-spinner');\n",
              "      try {\n",
              "        const charts = await google.colab.kernel.invokeFunction(\n",
              "            'suggestCharts', [key], {});\n",
              "      } catch (error) {\n",
              "        console.error('Error during call to suggestCharts:', error);\n",
              "      }\n",
              "      quickchartButtonEl.classList.remove('colab-df-spinner');\n",
              "      quickchartButtonEl.classList.add('colab-df-quickchart-complete');\n",
              "    }\n",
              "    (() => {\n",
              "      let quickchartButtonEl =\n",
              "        document.querySelector('#df-b5932781-9b8f-4955-a9f7-42ac048002bc button');\n",
              "      quickchartButtonEl.style.display =\n",
              "        google.colab.kernel.accessAllowed ? 'block' : 'none';\n",
              "    })();\n",
              "  </script>\n",
              "</div>\n",
              "\n",
              "    </div>\n",
              "  </div>\n"
            ],
            "application/vnd.google.colaboratory.intrinsic+json": {
              "type": "dataframe",
              "summary": "{\n  \"name\": \"data\",\n  \"rows\": 20,\n  \"fields\": [\n    {\n      \"column\": \"text\",\n      \"properties\": {\n        \"dtype\": \"string\",\n        \"num_unique_values\": 20,\n        \"samples\": [\n          \"Sergio Martino has impressed me recently with his Giallo classics 'The Strange Vice of Mrs Wardh' and the unforgettably titled, 'Your Vice is a Locked Room and Only I Have the Key' - but even so, I wasn't expecting too much from this film. The Case of the Scorpion's Tail doesn't get mentioned as much as the aforementioned titles when it comes to classic Giallo discussion - but I don't know why, because this is at least as good as those two! Dario Argento may be the 'king' of Giallo, but with the five films that he made - Sergio Martino surely isn't too far behind. In some ways, he even surpasses the master. All of Martino's films were released prior to the jewel in Argento's crown, the magnificent Profondo Rosso, so back in the early seventies - Martino was the king! The plot here follows the idea of murder for profit, and follows the insurance payout of a wealthy man. His wife inherits $1 million, and it isn't long before there's people out for her blood! When she turns up dead shortly thereafter, an insurance investigator and a plucky, attractive young journalist follow up the case.<br /><br />The Case of the Scorpion's Tail may not benefit from the beautiful Edwige Fenech, but it does have two of Martino's collaborators on board. Most famous is George Hilton, who worked with Marino on The Strange Vice of Mrs Wardh and All the Colors of the Dark, along with a number of other Giallos. Hilton has a great screen presence, and every time I see him in an Italian thriller; it becomes obvious why he is repeatedly cast. The beautiful Anita Strindberg, who will be remembered from Your Vice is a Locked Room, stars alongside Hilton and excellently provides the classic Giallo female lead. Sergio Martino does a good job in the director's chair once again, with several beautiful scenes - the best of which taking place in a room bathed with green lighting! The score by Bruno Nicolai (Wardh) excellently sets the mood, but it is the script that, once again, is the driving force behind Martino's success. Ernesto Gastaldi, the writer for Martino's other four Giallo, has put together a script that is thrilling while staying away from the common Giallo pitfall of not making sense; thus liberating this film from the rest of the illogical genre. The Case of the Scorpion's Tail is a quality Giallo film, and yet another success for the great Sergio Martino. If you like Giallo, you'll love this!\",\n          \"This film really used its locations well with some amazing shots, dark and disturbing the film moves very slowly, but constantly keeps you watching. Modern Love worked well in the Gold Coast Film Fantastic program this year offering audiences a glimpse at an Australian Cinema that is usually neglected. Most importantly it is refreshing to see Australian cinema not taking on the clich\\u00e9 Aussie characters and story lines we have seen done to death over the years. This film would compliment any festival and will open debate after its screenings. The performances and characters are well developed, and the cinematography is fantastic. An interesting exploration into family relationships, and environments.\",\n          \"Two Soldiers is an excellent example of fine film-making. The director and producer took a heart-warming story and brought it to life with a very skilled and dedicated cast, excellent cinematography, and very creative artistry.<br /><br />The relaxed back-woods lifestyle of the brothers was depicted with great details, and contrasted sharply with the militaristic lifestyle that they were thrust into. The interaction between the brothers brought laughter and tears, as they struggled with a hard but peaceful life in the back-woods of North Carolina and an even harder life of war.<br /><br />The acting was great, particularly from the younger brother who is new to the big screen (played by Jonathan Furr), to the older brother (played by Ben Allison) and the powerful performance by the Colonel (played by Ron Perlman). The performance was extremely well cast.<br /><br />It was a pleasure to enjoy the magic of Two Soldiers, and I heartily recommend it to audiences of all ages.\"\n        ],\n        \"semantic_type\": \"\",\n        \"description\": \"\"\n      }\n    },\n    {\n      \"column\": \"label\",\n      \"properties\": {\n        \"dtype\": \"number\",\n        \"std\": 0,\n        \"min\": 0,\n        \"max\": 1,\n        \"num_unique_values\": 2,\n        \"samples\": [\n          0,\n          1\n        ],\n        \"semantic_type\": \"\",\n        \"description\": \"\"\n      }\n    },\n    {\n      \"column\": \"CleanedText\",\n      \"properties\": {\n        \"dtype\": \"string\",\n        \"num_unique_values\": 20,\n        \"samples\": [\n          \"sergio martino impressed recently giallo classics the strange vice mrs wardh unforgettably titled your vice locked room key even so expecting much film case scorpions tail get mentioned much aforementioned titles comes classic giallo discussion know why least good two dario argento may king giallo five films made sergio martino surely far behind ways even surpasses master martinos films released prior jewel argentos crown magnificent profondo rosso back early seventies martino king plot follows idea murder profit follows insurance payout wealthy man wife inherits million long theres people blood turns dead shortly thereafter insurance investigator plucky attractive young journalist follow casethe case scorpions tail may benefit beautiful edwige fenech two martinos collaborators board famous george hilton worked marino strange vice mrs wardh colors dark along number giallos hilton great screen presence every time see italian thriller becomes obvious repeatedly cast beautiful anita strindberg remembered vice locked room stars alongside hilton excellently provides classic giallo female lead sergio martino good job directors chair again several beautiful scenes best taking place room bathed green lighting score bruno nicolai wardh excellently sets mood script that again driving force behind martinos success ernesto gastaldi writer martinos four giallo put together script thrilling staying away common giallo pitfall making sense thus liberating film rest illogical genre case scorpions tail quality giallo film yet another success great sergio martino like giallo love this\",\n          \"film really used locations well amazing shots dark disturbing film moves slowly constantly keeps watching modern love worked well gold coast film fantastic program year offering audiences glimpse australian cinema usually neglected importantly refreshing see australian cinema taking clich aussie characters story lines seen done death years film would compliment festival open debate screenings performances characters well developed cinematography fantastic interesting exploration family relationships environments\"\n        ],\n        \"semantic_type\": \"\",\n        \"description\": \"\"\n      }\n    }\n  ]\n}"
            }
          },
          "metadata": {},
          "execution_count": 30
        }
      ],
      "source": [
        "data.sample(20)"
      ]
    },
    {
      "cell_type": "markdown",
      "id": "3b8366d4",
      "metadata": {
        "id": "3b8366d4"
      },
      "source": [
        "<br><br><span style='font-size:50px'>Splitting Data into Training and Testing</span>"
      ]
    },
    {
      "cell_type": "code",
      "execution_count": 31,
      "id": "44745b7c",
      "metadata": {
        "id": "44745b7c"
      },
      "outputs": [],
      "source": [
        "from sklearn.model_selection import train_test_split"
      ]
    },
    {
      "cell_type": "code",
      "execution_count": 32,
      "id": "2a38be35",
      "metadata": {
        "id": "2a38be35"
      },
      "outputs": [],
      "source": [
        "train, test = train_test_split(data, test_size=0.8, random_state=0)"
      ]
    },
    {
      "cell_type": "markdown",
      "id": "186ac811",
      "metadata": {
        "id": "186ac811"
      },
      "source": [
        "<br><br><span style='font-size:50px'>Feature Extraction using TF-IDF Vectorizer</span>"
      ]
    },
    {
      "cell_type": "code",
      "execution_count": 33,
      "id": "c90af4fe",
      "metadata": {
        "id": "c90af4fe"
      },
      "outputs": [],
      "source": [
        "from sklearn.feature_extraction.text import TfidfVectorizer\n",
        "\n",
        "vectorizer = TfidfVectorizer()"
      ]
    },
    {
      "cell_type": "code",
      "execution_count": 34,
      "id": "2ae13d96",
      "metadata": {
        "id": "2ae13d96"
      },
      "outputs": [],
      "source": [
        "X_train = vectorizer.fit_transform(train['CleanedText'])\n",
        "X_test = vectorizer.transform(test['CleanedText'])"
      ]
    },
    {
      "cell_type": "markdown",
      "id": "756b153a",
      "metadata": {
        "id": "756b153a"
      },
      "source": [
        "<br><br><span style='font-size:50px'>Model Building & Evaluation</span>"
      ]
    },
    {
      "cell_type": "code",
      "execution_count": 35,
      "id": "829297a1",
      "metadata": {
        "id": "829297a1"
      },
      "outputs": [],
      "source": [
        "from sklearn.metrics import classification_report,f1_score,accuracy_score"
      ]
    },
    {
      "cell_type": "markdown",
      "id": "5f1ed618",
      "metadata": {
        "id": "5f1ed618"
      },
      "source": [
        "<br><br><span style='font-size:30px'>Multinomial Naive Bayes</span>"
      ]
    },
    {
      "cell_type": "code",
      "execution_count": 36,
      "id": "6f3f12c4",
      "metadata": {
        "id": "6f3f12c4"
      },
      "outputs": [],
      "source": [
        "from sklearn.naive_bayes import MultinomialNB"
      ]
    },
    {
      "cell_type": "code",
      "execution_count": 37,
      "id": "79d2fc94",
      "metadata": {
        "scrolled": false,
        "colab": {
          "base_uri": "https://localhost:8080/",
          "height": 74
        },
        "id": "79d2fc94",
        "outputId": "5151db55-4e2b-4fb7-8a38-2271231ea393"
      },
      "outputs": [
        {
          "output_type": "execute_result",
          "data": {
            "text/plain": [
              "MultinomialNB()"
            ],
            "text/html": [
              "<style>#sk-container-id-1 {color: black;background-color: white;}#sk-container-id-1 pre{padding: 0;}#sk-container-id-1 div.sk-toggleable {background-color: white;}#sk-container-id-1 label.sk-toggleable__label {cursor: pointer;display: block;width: 100%;margin-bottom: 0;padding: 0.3em;box-sizing: border-box;text-align: center;}#sk-container-id-1 label.sk-toggleable__label-arrow:before {content: \"▸\";float: left;margin-right: 0.25em;color: #696969;}#sk-container-id-1 label.sk-toggleable__label-arrow:hover:before {color: black;}#sk-container-id-1 div.sk-estimator:hover label.sk-toggleable__label-arrow:before {color: black;}#sk-container-id-1 div.sk-toggleable__content {max-height: 0;max-width: 0;overflow: hidden;text-align: left;background-color: #f0f8ff;}#sk-container-id-1 div.sk-toggleable__content pre {margin: 0.2em;color: black;border-radius: 0.25em;background-color: #f0f8ff;}#sk-container-id-1 input.sk-toggleable__control:checked~div.sk-toggleable__content {max-height: 200px;max-width: 100%;overflow: auto;}#sk-container-id-1 input.sk-toggleable__control:checked~label.sk-toggleable__label-arrow:before {content: \"▾\";}#sk-container-id-1 div.sk-estimator input.sk-toggleable__control:checked~label.sk-toggleable__label {background-color: #d4ebff;}#sk-container-id-1 div.sk-label input.sk-toggleable__control:checked~label.sk-toggleable__label {background-color: #d4ebff;}#sk-container-id-1 input.sk-hidden--visually {border: 0;clip: rect(1px 1px 1px 1px);clip: rect(1px, 1px, 1px, 1px);height: 1px;margin: -1px;overflow: hidden;padding: 0;position: absolute;width: 1px;}#sk-container-id-1 div.sk-estimator {font-family: monospace;background-color: #f0f8ff;border: 1px dotted black;border-radius: 0.25em;box-sizing: border-box;margin-bottom: 0.5em;}#sk-container-id-1 div.sk-estimator:hover {background-color: #d4ebff;}#sk-container-id-1 div.sk-parallel-item::after {content: \"\";width: 100%;border-bottom: 1px solid gray;flex-grow: 1;}#sk-container-id-1 div.sk-label:hover label.sk-toggleable__label {background-color: #d4ebff;}#sk-container-id-1 div.sk-serial::before {content: \"\";position: absolute;border-left: 1px solid gray;box-sizing: border-box;top: 0;bottom: 0;left: 50%;z-index: 0;}#sk-container-id-1 div.sk-serial {display: flex;flex-direction: column;align-items: center;background-color: white;padding-right: 0.2em;padding-left: 0.2em;position: relative;}#sk-container-id-1 div.sk-item {position: relative;z-index: 1;}#sk-container-id-1 div.sk-parallel {display: flex;align-items: stretch;justify-content: center;background-color: white;position: relative;}#sk-container-id-1 div.sk-item::before, #sk-container-id-1 div.sk-parallel-item::before {content: \"\";position: absolute;border-left: 1px solid gray;box-sizing: border-box;top: 0;bottom: 0;left: 50%;z-index: -1;}#sk-container-id-1 div.sk-parallel-item {display: flex;flex-direction: column;z-index: 1;position: relative;background-color: white;}#sk-container-id-1 div.sk-parallel-item:first-child::after {align-self: flex-end;width: 50%;}#sk-container-id-1 div.sk-parallel-item:last-child::after {align-self: flex-start;width: 50%;}#sk-container-id-1 div.sk-parallel-item:only-child::after {width: 0;}#sk-container-id-1 div.sk-dashed-wrapped {border: 1px dashed gray;margin: 0 0.4em 0.5em 0.4em;box-sizing: border-box;padding-bottom: 0.4em;background-color: white;}#sk-container-id-1 div.sk-label label {font-family: monospace;font-weight: bold;display: inline-block;line-height: 1.2em;}#sk-container-id-1 div.sk-label-container {text-align: center;}#sk-container-id-1 div.sk-container {/* jupyter's `normalize.less` sets `[hidden] { display: none; }` but bootstrap.min.css set `[hidden] { display: none !important; }` so we also need the `!important` here to be able to override the default hidden behavior on the sphinx rendered scikit-learn.org. See: https://github.com/scikit-learn/scikit-learn/issues/21755 */display: inline-block !important;position: relative;}#sk-container-id-1 div.sk-text-repr-fallback {display: none;}</style><div id=\"sk-container-id-1\" class=\"sk-top-container\"><div class=\"sk-text-repr-fallback\"><pre>MultinomialNB()</pre><b>In a Jupyter environment, please rerun this cell to show the HTML representation or trust the notebook. <br />On GitHub, the HTML representation is unable to render, please try loading this page with nbviewer.org.</b></div><div class=\"sk-container\" hidden><div class=\"sk-item\"><div class=\"sk-estimator sk-toggleable\"><input class=\"sk-toggleable__control sk-hidden--visually\" id=\"sk-estimator-id-1\" type=\"checkbox\" checked><label for=\"sk-estimator-id-1\" class=\"sk-toggleable__label sk-toggleable__label-arrow\">MultinomialNB</label><div class=\"sk-toggleable__content\"><pre>MultinomialNB()</pre></div></div></div></div></div>"
            ]
          },
          "metadata": {},
          "execution_count": 37
        }
      ],
      "source": [
        "mnb = MultinomialNB()\n",
        "\n",
        "mnb.fit(X_train, train['label'])"
      ]
    },
    {
      "cell_type": "code",
      "execution_count": 38,
      "id": "8cb2d19e",
      "metadata": {
        "id": "8cb2d19e"
      },
      "outputs": [],
      "source": [
        "pred_y_mnb = mnb.predict(X_test)"
      ]
    },
    {
      "cell_type": "code",
      "execution_count": 39,
      "id": "4b12df4e",
      "metadata": {
        "colab": {
          "base_uri": "https://localhost:8080/"
        },
        "id": "4b12df4e",
        "outputId": "8f7c3c03-41e3-43b3-83c8-4c384bee4af9"
      },
      "outputs": [
        {
          "output_type": "stream",
          "name": "stdout",
          "text": [
            "Classification Report:\n",
            "\n",
            "              precision    recall  f1-score   support\n",
            "\n",
            "           0       0.85      0.84      0.85      2005\n",
            "           1       0.84      0.85      0.85      1991\n",
            "\n",
            "    accuracy                           0.85      3996\n",
            "   macro avg       0.85      0.85      0.85      3996\n",
            "weighted avg       0.85      0.85      0.85      3996\n",
            "\n",
            "____________________________________________________________________________________________________\n",
            "Accuracy: 0.8465965965965966\n",
            "____________________________________________________________________________________________________\n",
            "F1 Score: 0.8465924175288418\n"
          ]
        }
      ],
      "source": [
        "print('Classification Report:\\n')\n",
        "print(classification_report(test['label'], pred_y_mnb))\n",
        "print('_'*100)\n",
        "print('Accuracy:',accuracy_score(test['label'], pred_y_mnb))\n",
        "print('_'*100)\n",
        "print('F1 Score:',f1_score(test['label'], pred_y_mnb, average='weighted'))"
      ]
    },
    {
      "cell_type": "markdown",
      "id": "19c3a8e8",
      "metadata": {
        "id": "19c3a8e8"
      },
      "source": [
        "<br><br><span style='font-size:30px'>Random Forest</span>"
      ]
    },
    {
      "cell_type": "code",
      "execution_count": 40,
      "id": "d01a03a9",
      "metadata": {
        "id": "d01a03a9"
      },
      "outputs": [],
      "source": [
        "from sklearn.ensemble import RandomForestClassifier"
      ]
    },
    {
      "cell_type": "code",
      "execution_count": 41,
      "id": "93094c7f",
      "metadata": {
        "colab": {
          "base_uri": "https://localhost:8080/",
          "height": 74
        },
        "id": "93094c7f",
        "outputId": "31ca8730-0cd5-44c6-cfa6-363843ac422f"
      },
      "outputs": [
        {
          "output_type": "execute_result",
          "data": {
            "text/plain": [
              "RandomForestClassifier(n_jobs=-1, random_state=0)"
            ],
            "text/html": [
              "<style>#sk-container-id-2 {color: black;background-color: white;}#sk-container-id-2 pre{padding: 0;}#sk-container-id-2 div.sk-toggleable {background-color: white;}#sk-container-id-2 label.sk-toggleable__label {cursor: pointer;display: block;width: 100%;margin-bottom: 0;padding: 0.3em;box-sizing: border-box;text-align: center;}#sk-container-id-2 label.sk-toggleable__label-arrow:before {content: \"▸\";float: left;margin-right: 0.25em;color: #696969;}#sk-container-id-2 label.sk-toggleable__label-arrow:hover:before {color: black;}#sk-container-id-2 div.sk-estimator:hover label.sk-toggleable__label-arrow:before {color: black;}#sk-container-id-2 div.sk-toggleable__content {max-height: 0;max-width: 0;overflow: hidden;text-align: left;background-color: #f0f8ff;}#sk-container-id-2 div.sk-toggleable__content pre {margin: 0.2em;color: black;border-radius: 0.25em;background-color: #f0f8ff;}#sk-container-id-2 input.sk-toggleable__control:checked~div.sk-toggleable__content {max-height: 200px;max-width: 100%;overflow: auto;}#sk-container-id-2 input.sk-toggleable__control:checked~label.sk-toggleable__label-arrow:before {content: \"▾\";}#sk-container-id-2 div.sk-estimator input.sk-toggleable__control:checked~label.sk-toggleable__label {background-color: #d4ebff;}#sk-container-id-2 div.sk-label input.sk-toggleable__control:checked~label.sk-toggleable__label {background-color: #d4ebff;}#sk-container-id-2 input.sk-hidden--visually {border: 0;clip: rect(1px 1px 1px 1px);clip: rect(1px, 1px, 1px, 1px);height: 1px;margin: -1px;overflow: hidden;padding: 0;position: absolute;width: 1px;}#sk-container-id-2 div.sk-estimator {font-family: monospace;background-color: #f0f8ff;border: 1px dotted black;border-radius: 0.25em;box-sizing: border-box;margin-bottom: 0.5em;}#sk-container-id-2 div.sk-estimator:hover {background-color: #d4ebff;}#sk-container-id-2 div.sk-parallel-item::after {content: \"\";width: 100%;border-bottom: 1px solid gray;flex-grow: 1;}#sk-container-id-2 div.sk-label:hover label.sk-toggleable__label {background-color: #d4ebff;}#sk-container-id-2 div.sk-serial::before {content: \"\";position: absolute;border-left: 1px solid gray;box-sizing: border-box;top: 0;bottom: 0;left: 50%;z-index: 0;}#sk-container-id-2 div.sk-serial {display: flex;flex-direction: column;align-items: center;background-color: white;padding-right: 0.2em;padding-left: 0.2em;position: relative;}#sk-container-id-2 div.sk-item {position: relative;z-index: 1;}#sk-container-id-2 div.sk-parallel {display: flex;align-items: stretch;justify-content: center;background-color: white;position: relative;}#sk-container-id-2 div.sk-item::before, #sk-container-id-2 div.sk-parallel-item::before {content: \"\";position: absolute;border-left: 1px solid gray;box-sizing: border-box;top: 0;bottom: 0;left: 50%;z-index: -1;}#sk-container-id-2 div.sk-parallel-item {display: flex;flex-direction: column;z-index: 1;position: relative;background-color: white;}#sk-container-id-2 div.sk-parallel-item:first-child::after {align-self: flex-end;width: 50%;}#sk-container-id-2 div.sk-parallel-item:last-child::after {align-self: flex-start;width: 50%;}#sk-container-id-2 div.sk-parallel-item:only-child::after {width: 0;}#sk-container-id-2 div.sk-dashed-wrapped {border: 1px dashed gray;margin: 0 0.4em 0.5em 0.4em;box-sizing: border-box;padding-bottom: 0.4em;background-color: white;}#sk-container-id-2 div.sk-label label {font-family: monospace;font-weight: bold;display: inline-block;line-height: 1.2em;}#sk-container-id-2 div.sk-label-container {text-align: center;}#sk-container-id-2 div.sk-container {/* jupyter's `normalize.less` sets `[hidden] { display: none; }` but bootstrap.min.css set `[hidden] { display: none !important; }` so we also need the `!important` here to be able to override the default hidden behavior on the sphinx rendered scikit-learn.org. See: https://github.com/scikit-learn/scikit-learn/issues/21755 */display: inline-block !important;position: relative;}#sk-container-id-2 div.sk-text-repr-fallback {display: none;}</style><div id=\"sk-container-id-2\" class=\"sk-top-container\"><div class=\"sk-text-repr-fallback\"><pre>RandomForestClassifier(n_jobs=-1, random_state=0)</pre><b>In a Jupyter environment, please rerun this cell to show the HTML representation or trust the notebook. <br />On GitHub, the HTML representation is unable to render, please try loading this page with nbviewer.org.</b></div><div class=\"sk-container\" hidden><div class=\"sk-item\"><div class=\"sk-estimator sk-toggleable\"><input class=\"sk-toggleable__control sk-hidden--visually\" id=\"sk-estimator-id-2\" type=\"checkbox\" checked><label for=\"sk-estimator-id-2\" class=\"sk-toggleable__label sk-toggleable__label-arrow\">RandomForestClassifier</label><div class=\"sk-toggleable__content\"><pre>RandomForestClassifier(n_jobs=-1, random_state=0)</pre></div></div></div></div></div>"
            ]
          },
          "metadata": {},
          "execution_count": 41
        }
      ],
      "source": [
        "rf = RandomForestClassifier(random_state=0,n_jobs=-1)\n",
        "rf.fit(X_train, train['label'])"
      ]
    },
    {
      "cell_type": "code",
      "execution_count": 42,
      "id": "8f0b66af",
      "metadata": {
        "id": "8f0b66af"
      },
      "outputs": [],
      "source": [
        "pred_y_rf = rf.predict(X_test)"
      ]
    },
    {
      "cell_type": "code",
      "execution_count": 43,
      "id": "8f6dc7e7",
      "metadata": {
        "colab": {
          "base_uri": "https://localhost:8080/"
        },
        "id": "8f6dc7e7",
        "outputId": "66088ae2-5552-40bd-f846-8d8c66aa72fd"
      },
      "outputs": [
        {
          "output_type": "stream",
          "name": "stdout",
          "text": [
            "Classification Report:\n",
            "\n",
            "              precision    recall  f1-score   support\n",
            "\n",
            "           0       0.82      0.77      0.79      2005\n",
            "           1       0.78      0.83      0.80      1991\n",
            "\n",
            "    accuracy                           0.80      3996\n",
            "   macro avg       0.80      0.80      0.80      3996\n",
            "weighted avg       0.80      0.80      0.80      3996\n",
            "\n",
            "____________________________________________________________________________________________________\n",
            "Accuracy: 0.7985485485485485\n",
            "____________________________________________________________________________________________________\n",
            "F1 Score: 0.7984126326896157\n"
          ]
        }
      ],
      "source": [
        "print('Classification Report:\\n')\n",
        "print(classification_report(test['label'], pred_y_rf))\n",
        "print('_'*100)\n",
        "print('Accuracy:',accuracy_score(test['label'], pred_y_rf))\n",
        "print('_'*100)\n",
        "print('F1 Score:',f1_score(test['label'], pred_y_rf, average='weighted'))"
      ]
    },
    {
      "cell_type": "markdown",
      "id": "40d29e41",
      "metadata": {
        "id": "40d29e41"
      },
      "source": [
        "<br><br><span style='font-size:50px'>Testing the Model</span>"
      ]
    },
    {
      "cell_type": "code",
      "execution_count": 44,
      "id": "29343ab6",
      "metadata": {
        "id": "29343ab6"
      },
      "outputs": [],
      "source": [
        "import numpy as np"
      ]
    },
    {
      "cell_type": "code",
      "execution_count": 45,
      "id": "c4f5f783",
      "metadata": {
        "id": "c4f5f783"
      },
      "outputs": [],
      "source": [
        "def test_classifier(clf,input_text):\n",
        "    input_text = removeHTML(input_text)\n",
        "    input_text = removeStopWords(input_text)\n",
        "    input_text = Lemmatizing(input_text)\n",
        "    input_text = removeNoise(input_text)\n",
        "    text_2_vec = vectorizer.transform(np.array([input_text]))\n",
        "\n",
        "    pred_y = clf.predict(text_2_vec)\n",
        "    print(pred_y)\n",
        "    if pred_y == 1:\n",
        "        return ('Positive.')\n",
        "    else:\n",
        "        return ('Negative.')"
      ]
    },
    {
      "cell_type": "code",
      "execution_count": 46,
      "id": "691044a4",
      "metadata": {
        "id": "691044a4"
      },
      "outputs": [],
      "source": [
        "#Trained Classifiers: mnb, rf"
      ]
    },
    {
      "cell_type": "code",
      "execution_count": 47,
      "id": "027fc442",
      "metadata": {
        "colab": {
          "base_uri": "https://localhost:8080/"
        },
        "id": "027fc442",
        "outputId": "0a37dc14-7061-4947-a5b8-4c1b32d27fa7"
      },
      "outputs": [
        {
          "output_type": "stream",
          "name": "stdout",
          "text": [
            "Text: \"Lacking coherence and depth, the 2015 \"Fantastic Four\" adaptation falters with weak\n",
            "                characterization and a disjointed plot, failing to capture the essence of its source material.\".\n",
            "[0]\n",
            "Sentiment: Negative.\n"
          ]
        }
      ],
      "source": [
        "input_text = '''Lacking coherence and depth, the 2015 \"Fantastic Four\" adaptation falters with weak\n",
        "                characterization and a disjointed plot, failing to capture the essence of its source material.'''\n",
        "\n",
        "print('Text: \"'+input_text+'\".')\n",
        "\n",
        "print('Sentiment:',test_classifier(mnb,input_text))"
      ]
    },
    {
      "cell_type": "code",
      "execution_count": 48,
      "id": "b327fb0e",
      "metadata": {
        "colab": {
          "base_uri": "https://localhost:8080/"
        },
        "id": "b327fb0e",
        "outputId": "e5d84481-7bff-4a83-cf18-eee398d477c8"
      },
      "outputs": [
        {
          "output_type": "stream",
          "name": "stdout",
          "text": [
            "Text: \"A groundbreaking blend of stunning visuals and thrilling storytelling,\n",
            "                \"Jurassic Park\" remains a timeless adventure that defined the blockbuster experience.\".\n",
            "[1]\n",
            "Sentiment: Positive.\n"
          ]
        }
      ],
      "source": [
        "input_text = '''A groundbreaking blend of stunning visuals and thrilling storytelling,\n",
        "                \"Jurassic Park\" remains a timeless adventure that defined the blockbuster experience.'''\n",
        "\n",
        "print('Text: \"'+input_text+'\".')\n",
        "\n",
        "print('Sentiment:',test_classifier(mnb,input_text))"
      ]
    },
    {
      "cell_type": "code",
      "execution_count": 49,
      "id": "a64c4f54",
      "metadata": {
        "colab": {
          "base_uri": "https://localhost:8080/"
        },
        "id": "a64c4f54",
        "outputId": "4eeef0d4-859a-4353-8e50-f64745cec576"
      },
      "outputs": [
        {
          "output_type": "stream",
          "name": "stdout",
          "text": [
            "Text: \"An intense, gripping saga showcasing Heath Ledgers mesmerizing performance\n",
            "                as the Joker. \"The Dark Knight\" stands as a triumph in the superhero genre, blending action with profound storytelling.\".\n",
            "[1]\n",
            "Sentiment: Positive.\n"
          ]
        }
      ],
      "source": [
        "input_text = '''An intense, gripping saga showcasing Heath Ledgers mesmerizing performance\n",
        "                as the Joker. \"The Dark Knight\" stands as a triumph in the superhero genre, blending action with profound storytelling.'''\n",
        "\n",
        "print('Text: \"'+input_text+'\".')\n",
        "\n",
        "print('Sentiment:',test_classifier(rf,input_text))"
      ]
    },
    {
      "cell_type": "code",
      "execution_count": 50,
      "id": "db29ce0a",
      "metadata": {
        "colab": {
          "base_uri": "https://localhost:8080/"
        },
        "id": "db29ce0a",
        "outputId": "4682ea89-5a18-44ee-f641-907220996746"
      },
      "outputs": [
        {
          "output_type": "stream",
          "name": "stdout",
          "text": [
            "Text: \"A disjointed mess with flashes of potential. \"Suicide Squad\" suffers from an uneven plot,\n",
            "                underdeveloped characters, and tonal inconsistencies that undermine its promising premise.\".\n",
            "[0]\n",
            "Sentiment: Negative.\n"
          ]
        }
      ],
      "source": [
        "input_text = '''A disjointed mess with flashes of potential. \"Suicide Squad\" suffers from an uneven plot,\n",
        "                underdeveloped characters, and tonal inconsistencies that undermine its promising premise.'''\n",
        "\n",
        "print('Text: \"'+input_text+'\".')\n",
        "\n",
        "print('Sentiment:',test_classifier(rf,input_text))"
      ]
    },
    {
      "cell_type": "code",
      "execution_count": 51,
      "id": "e8948846",
      "metadata": {
        "colab": {
          "base_uri": "https://localhost:8080/"
        },
        "id": "e8948846",
        "outputId": "69f4e72f-d7ab-46be-c30b-5c4f1722946b"
      },
      "outputs": [
        {
          "output_type": "stream",
          "name": "stdout",
          "text": [
            "Text: \"Revolutionary in both visuals and narrative, \"The Matrix\" is a mind-bending sci-fi classic\n",
            "                that redefined action cinema, setting new standards for storytelling and special effects.\".\n",
            "[1]\n",
            "Sentiment: Positive.\n"
          ]
        }
      ],
      "source": [
        "input_text = '''Revolutionary in both visuals and narrative, \"The Matrix\" is a mind-bending sci-fi classic\n",
        "                that redefined action cinema, setting new standards for storytelling and special effects.'''\n",
        "\n",
        "print('Text: \"'+input_text+'\".')\n",
        "\n",
        "print('Sentiment:',test_classifier(rf,input_text))"
      ]
    },
    {
      "cell_type": "code",
      "execution_count": 52,
      "id": "d8f6ab22",
      "metadata": {
        "colab": {
          "base_uri": "https://localhost:8080/"
        },
        "id": "d8f6ab22",
        "outputId": "07da13f6-1cbe-4f96-ac4b-c96a04871ce1"
      },
      "outputs": [
        {
          "output_type": "stream",
          "name": "stdout",
          "text": [
            "Text: \"\"Whiplash\" is a tour de force that resonates deeply. Its intense narrative, fueled by stellar performances and\n",
            "                an electrifying soundtrack, makes it an unforgettable cinematic experience.\".\n",
            "[1]\n",
            "Sentiment: Positive.\n"
          ]
        }
      ],
      "source": [
        "input_text = '''\"Whiplash\" is a tour de force that resonates deeply. Its intense narrative, fueled by stellar performances and\n",
        "                an electrifying soundtrack, makes it an unforgettable cinematic experience.'''\n",
        "\n",
        "print('Text: \"'+input_text+'\".')\n",
        "\n",
        "print('Sentiment:',test_classifier(mnb,input_text))"
      ]
    },
    {
      "cell_type": "code",
      "execution_count": 53,
      "id": "46a40858",
      "metadata": {
        "colab": {
          "base_uri": "https://localhost:8080/"
        },
        "id": "46a40858",
        "outputId": "f748338b-c618-4ae7-aa75-74d2d09f299a"
      },
      "outputs": [
        {
          "output_type": "stream",
          "name": "stdout",
          "text": [
            "Text: \"\"M. Night Shyamalan's \"The Happening\" is a misfire, featuring a disjointed plot\n",
            "                and cringe-inducing dialogue. Despite a promising premise, it falls flat, lacking both suspense and coherence.\".\n",
            "[0]\n",
            "Sentiment: Negative.\n"
          ]
        }
      ],
      "source": [
        "input_text = '''\"M. Night Shyamalan's \"The Happening\" is a misfire, featuring a disjointed plot\n",
        "                and cringe-inducing dialogue. Despite a promising premise, it falls flat, lacking both suspense and coherence.'''\n",
        "\n",
        "print('Text: \"'+input_text+'\".')\n",
        "\n",
        "print('Sentiment:',test_classifier(mnb,input_text))"
      ]
    },
    {
      "cell_type": "code",
      "execution_count": 54,
      "id": "91e78115",
      "metadata": {
        "colab": {
          "base_uri": "https://localhost:8080/"
        },
        "id": "91e78115",
        "outputId": "feae8652-74ea-41ce-d61f-22653b4479c2"
      },
      "outputs": [
        {
          "output_type": "stream",
          "name": "stdout",
          "text": [
            "Text: \"\"it was a bad movie\".\n",
            "[0]\n",
            "Sentiment: Negative.\n"
          ]
        }
      ],
      "source": [
        "input_text = '''\"it was a bad movie'''\n",
        "\n",
        "print('Text: \"'+input_text+'\".')\n",
        "\n",
        "print('Sentiment:',test_classifier(mnb,input_text))"
      ]
    },
    {
      "cell_type": "code",
      "execution_count": 55,
      "id": "efe898a7",
      "metadata": {
        "colab": {
          "base_uri": "https://localhost:8080/"
        },
        "id": "efe898a7",
        "outputId": "c35cccf5-78b3-4e76-b499-8eed1e6e74d1"
      },
      "outputs": [
        {
          "output_type": "stream",
          "name": "stdout",
          "text": [
            "Text: \"\"sluggish pacing\".\n",
            "[0]\n",
            "Sentiment: Negative.\n"
          ]
        }
      ],
      "source": [
        "input_text = '''\"sluggish pacing'''\n",
        "\n",
        "print('Text: \"'+input_text+'\".')\n",
        "\n",
        "print('Sentiment:',test_classifier(mnb,input_text))"
      ]
    },
    {
      "cell_type": "code",
      "execution_count": 56,
      "id": "5431e18c",
      "metadata": {
        "colab": {
          "base_uri": "https://localhost:8080/"
        },
        "id": "5431e18c",
        "outputId": "a4ec0f76-c79e-4ea9-b49d-b87db4a57e10"
      },
      "outputs": [
        {
          "output_type": "stream",
          "name": "stdout",
          "text": [
            "Text: \"The most interesting thing about Miryang (Secret Sunshine) is the actors. Jeon Do-yeon, as Lee Shin-ae, the main character, is a woman with a young son whose husband has died in a tragic accident, and who leaves Seoul to live in Miryang, which was his home town, with her young son. Jeon's face is very changeable. She is girlish, flirtatious, elegant, aged and sad, desperate and joyous, with it and terribly isolated by turns, and it's all in her face. The film also stars Song Kang-ho as Kim, a man who meets her when her car breaks down coming into Miryang, who happens to run a garage in town, and who follows her around all the time thereafter, despite her apparent lack of interest in his attentions. Song is the biggest star in Korea right now, renowned for his work with Park Chan-wook and Bong Joon-ho (Sympathy for Mr. Vengeance; Memories of Murder and The Host). And yet here he plays a throwaway character, almost a forgotten man. But of course he makes him interesting and curiously appealing. He is the essential ballast to keep Jeon's character from floating away.<br /><br />Lee Shin-ae is a piano teacher. She comes to the new town, which is a neutral place, a kind of poor-man's Seoul, a town \"just like anywhere else,\" as Kim says (just as he is in a way just like anyone else). Her little boy is sprightly, as little boys are, but plainly damaged and withdrawn at times too. His father used to snore, and when he misses him he lies awake, pretending to snore. He goes to school, and Shin-ae meets parents and students and shopkeepers. There is a sense of place in the film, even though the place is in a sense \"anywhere.\" People speak in the local dialect, and everyone knows everything, and Shin-ae's Seoul origin is immediately noticed. Is life really harsher here, away from the big city and its sophistication? Shin-ae seems not to realize the danger she is in.<br /><br />Something terrible happens. And Shin-ae doesn't necessarily deal with it in the best possible way. But it happens and she must face the consequences. But she can't. She goes to pieces. A perpetrator is caught, but that's no consolation. Eventually she becomes so despairing, she relents and goes to a born-again Christian meeting an acquaintance has been pressing her to attend. She finds peace and release with this. But when she decides not only to forgive the perpetrator but to go to the prison to tell him so, that experience is full of ironies and it destroys her all over again. She becomes embittered and desperate and she no longer finds solace in religion. And it gets worse than that.<br /><br />Jeon Do-yeon gives her all in this extremely demanding and protean role. Lee Chang-dong may be a very good director. If an actor of the stature of Song Kang-ho expresses enormous admiration for him, that is convincing. According to Scott Foundas of LA Weekly, Lee's first three films, Green Fish (1997), Peppermint Candy (2000) and Oasis (2002) have marked him out as \"one of the leading figures of his country's recent cinematic renaissance.\" But this is not as successful a film as those of other Korean directors whose work I've seen, such as Yong Sang-Soo, Bong Joon-ho, and the prodigiously, almost perversely gifted Park Chan-wook. It may indeed begin as Foundas says as a kind of \"Asiatic Alice Doesn't Live Here Anymore\" and then \"abruptly and without warning\" turns into \"something of a thriller, and some time after that a nearly Bressonian study in human suffering.\" But that progression not only seems random and indigestible; the film sags and loses its momentum toward the end and then simply fizzles out, with no sense of an ending. There are also weaknesses in the action. Shin-ae takes foolish chances with her son, and makes bad choices all along. If she is destined for madness like Betty in Jean-Jacques Beineix's Betty Blue, which might explain her peculiar and mistaken choices, that isn't something that is properly developed. This is an interesting film, certainly a disturbing one, but one that leaves one doubtful and dissatisfied, after putting one through an emotional wringer.<br /><br />An official selection of the New York Film Festival presented at Lincoln Center, 2007an event that has done right by Korean filmmakers in the recent past.\".\n",
            "[1]\n",
            "Sentiment: Positive.\n"
          ]
        }
      ],
      "source": [
        "input_text = '''The most interesting thing about Miryang (Secret Sunshine) is the actors. Jeon Do-yeon, as Lee Shin-ae, the main character, is a woman with a young son whose husband has died in a tragic accident, and who leaves Seoul to live in Miryang, which was his home town, with her young son. Jeon's face is very changeable. She is girlish, flirtatious, elegant, aged and sad, desperate and joyous, with it and terribly isolated by turns, and it's all in her face. The film also stars Song Kang-ho as Kim, a man who meets her when her car breaks down coming into Miryang, who happens to run a garage in town, and who follows her around all the time thereafter, despite her apparent lack of interest in his attentions. Song is the biggest star in Korea right now, renowned for his work with Park Chan-wook and Bong Joon-ho (Sympathy for Mr. Vengeance; Memories of Murder and The Host). And yet here he plays a throwaway character, almost a forgotten man. But of course he makes him interesting and curiously appealing. He is the essential ballast to keep Jeon's character from floating away.<br /><br />Lee Shin-ae is a piano teacher. She comes to the new town, which is a neutral place, a kind of poor-man's Seoul, a town \"just like anywhere else,\" as Kim says (just as he is in a way just like anyone else). Her little boy is sprightly, as little boys are, but plainly damaged and withdrawn at times too. His father used to snore, and when he misses him he lies awake, pretending to snore. He goes to school, and Shin-ae meets parents and students and shopkeepers. There is a sense of place in the film, even though the place is in a sense \"anywhere.\" People speak in the local dialect, and everyone knows everything, and Shin-ae's Seoul origin is immediately noticed. Is life really harsher here, away from the big city and its sophistication? Shin-ae seems not to realize the danger she is in.<br /><br />Something terrible happens. And Shin-ae doesn't necessarily deal with it in the best possible way. But it happens and she must face the consequences. But she can't. She goes to pieces. A perpetrator is caught, but that's no consolation. Eventually she becomes so despairing, she relents and goes to a born-again Christian meeting an acquaintance has been pressing her to attend. She finds peace and release with this. But when she decides not only to forgive the perpetrator but to go to the prison to tell him so, that experience is full of ironies and it destroys her all over again. She becomes embittered and desperate and she no longer finds solace in religion. And it gets worse than that.<br /><br />Jeon Do-yeon gives her all in this extremely demanding and protean role. Lee Chang-dong may be a very good director. If an actor of the stature of Song Kang-ho expresses enormous admiration for him, that is convincing. According to Scott Foundas of LA Weekly, Lee's first three films, Green Fish (1997), Peppermint Candy (2000) and Oasis (2002) have marked him out as \"one of the leading figures of his country's recent cinematic renaissance.\" But this is not as successful a film as those of other Korean directors whose work I've seen, such as Yong Sang-Soo, Bong Joon-ho, and the prodigiously, almost perversely gifted Park Chan-wook. It may indeed begin as Foundas says as a kind of \"Asiatic Alice Doesn't Live Here Anymore\" and then \"abruptly and without warning\" turns into \"something of a thriller, and some time after that a nearly Bressonian study in human suffering.\" But that progression not only seems random and indigestible; the film sags and loses its momentum toward the end and then simply fizzles out, with no sense of an ending. There are also weaknesses in the action. Shin-ae takes foolish chances with her son, and makes bad choices all along. If she is destined for madness like Betty in Jean-Jacques Beineix's Betty Blue, which might explain her peculiar and mistaken choices, that isn't something that is properly developed. This is an interesting film, certainly a disturbing one, but one that leaves one doubtful and dissatisfied, after putting one through an emotional wringer.<br /><br />An official selection of the New York Film Festival presented at Lincoln Center, 2007an event that has done right by Korean filmmakers in the recent past.'''\n",
        "\n",
        "print('Text: \"'+input_text+'\".')\n",
        "\n",
        "print('Sentiment:',test_classifier(mnb,input_text))"
      ]
    },
    {
      "cell_type": "code",
      "execution_count": 57,
      "id": "565cb154",
      "metadata": {
        "colab": {
          "base_uri": "https://localhost:8080/"
        },
        "id": "565cb154",
        "outputId": "8870c7d7-2023-4f16-be7f-9b40dbf3f18c"
      },
      "outputs": [
        {
          "output_type": "stream",
          "name": "stdout",
          "text": [
            "Text: \"\"Despite its stunning visual effects and captivating cinematography, the movie left me feeling conflicted. While the storyline was intriguing and kept me engaged until the end, there were moments where the pacing felt sluggish, and certain character developments seemed lacking. However, the stellar performances from the cast, particularly the lead actor, added depth to the narrative, leaving me pondering its themes long after the credits rolled. Overall, it's a film that's sure to spark debate and interpretation, making it a must-watch for cinephiles seeking a thought-provoking experience\".\n",
            "[1]\n",
            "Sentiment: Positive.\n"
          ]
        }
      ],
      "source": [
        "input_text = '''\"Despite its stunning visual effects and captivating cinematography, the movie left me feeling conflicted. While the storyline was intriguing and kept me engaged until the end, there were moments where the pacing felt sluggish, and certain character developments seemed lacking. However, the stellar performances from the cast, particularly the lead actor, added depth to the narrative, leaving me pondering its themes long after the credits rolled. Overall, it's a film that's sure to spark debate and interpretation, making it a must-watch for cinephiles seeking a thought-provoking experience'''\n",
        "\n",
        "print('Text: \"'+input_text+'\".')\n",
        "\n",
        "print('Sentiment:',test_classifier(mnb,input_text))"
      ]
    }
  ],
  "metadata": {
    "kernelspec": {
      "display_name": "Python 3 (ipykernel)",
      "language": "python",
      "name": "python3"
    },
    "language_info": {
      "codemirror_mode": {
        "name": "ipython",
        "version": 3
      },
      "file_extension": ".py",
      "mimetype": "text/x-python",
      "name": "python",
      "nbconvert_exporter": "python",
      "pygments_lexer": "ipython3",
      "version": "3.11.4"
    },
    "colab": {
      "provenance": [],
      "include_colab_link": true
    }
  },
  "nbformat": 4,
  "nbformat_minor": 5
}